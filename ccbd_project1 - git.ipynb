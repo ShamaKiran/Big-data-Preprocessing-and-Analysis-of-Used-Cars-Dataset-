{
 "cells": [
  {
   "cell_type": "markdown",
   "id": "5708f5de",
   "metadata": {},
   "source": [
    "#  USED  CAR DATA ANALYSIS"
   ]
  },
  {
   "cell_type": "code",
   "execution_count": 2,
   "id": "c8af997f",
   "metadata": {},
   "outputs": [],
   "source": [
    "import pyspark"
   ]
  },
  {
   "cell_type": "code",
   "execution_count": 3,
   "id": "de66f099",
   "metadata": {},
   "outputs": [],
   "source": [
    "from pyspark.sql import SparkSession\n",
    "from pyspark.sql import functions\n",
    "import sys"
   ]
  },
  {
   "cell_type": "code",
   "execution_count": 4,
   "id": "f003bf04",
   "metadata": {},
   "outputs": [],
   "source": [
    "spark = SparkSession.builder.appName('CarAnalysis').master('local').getOrCreate()"
   ]
  },
  {
   "cell_type": "code",
   "execution_count": 5,
   "id": "984dc7a0",
   "metadata": {},
   "outputs": [],
   "source": [
    "input_path=r\"C:\\Users\\Shama Kiran\\Desktop\\Used car dataset\\used_cars_data.csv\""
   ]
  },
  {
   "cell_type": "code",
   "execution_count": 6,
   "id": "94387dfd",
   "metadata": {},
   "outputs": [],
   "source": [
    "df=spark.read.csv(input_path,header=True)"
   ]
  },
  {
   "cell_type": "markdown",
   "id": "70bd4b11",
   "metadata": {},
   "source": [
    "## Checking and exploring the columns "
   ]
  },
  {
   "cell_type": "code",
   "execution_count": 7,
   "id": "c9545aa1",
   "metadata": {
    "scrolled": true
   },
   "outputs": [
    {
     "data": {
      "text/plain": [
       "['vin',\n",
       " 'back_legroom',\n",
       " 'bed',\n",
       " 'bed_height',\n",
       " 'bed_length',\n",
       " 'body_type',\n",
       " 'cabin',\n",
       " 'city',\n",
       " 'city_fuel_economy',\n",
       " 'combine_fuel_economy',\n",
       " 'daysonmarket',\n",
       " 'dealer_zip',\n",
       " 'description',\n",
       " 'engine_cylinders',\n",
       " 'engine_displacement',\n",
       " 'engine_type',\n",
       " 'exterior_color',\n",
       " 'fleet',\n",
       " 'frame_damaged',\n",
       " 'franchise_dealer',\n",
       " 'franchise_make',\n",
       " 'front_legroom',\n",
       " 'fuel_tank_volume',\n",
       " 'fuel_type',\n",
       " 'has_accidents',\n",
       " 'height',\n",
       " 'highway_fuel_economy',\n",
       " 'horsepower',\n",
       " 'interior_color',\n",
       " 'isCab',\n",
       " 'is_certified',\n",
       " 'is_cpo',\n",
       " 'is_new',\n",
       " 'is_oemcpo',\n",
       " 'latitude',\n",
       " 'length',\n",
       " 'listed_date',\n",
       " 'listing_color',\n",
       " 'listing_id',\n",
       " 'longitude',\n",
       " 'main_picture_url',\n",
       " 'major_options',\n",
       " 'make_name',\n",
       " 'maximum_seating',\n",
       " 'mileage',\n",
       " 'model_name',\n",
       " 'owner_count',\n",
       " 'power',\n",
       " 'price',\n",
       " 'salvage',\n",
       " 'savings_amount',\n",
       " 'seller_rating',\n",
       " 'sp_id',\n",
       " 'sp_name',\n",
       " 'theft_title',\n",
       " 'torque',\n",
       " 'transmission',\n",
       " 'transmission_display',\n",
       " 'trimId',\n",
       " 'trim_name',\n",
       " 'vehicle_damage_category',\n",
       " 'wheel_system',\n",
       " 'wheel_system_display',\n",
       " 'wheelbase',\n",
       " 'width',\n",
       " 'year']"
      ]
     },
     "execution_count": 7,
     "metadata": {},
     "output_type": "execute_result"
    }
   ],
   "source": [
    "df.columns"
   ]
  },
  {
   "cell_type": "code",
   "execution_count": 8,
   "id": "6f9c9eaa",
   "metadata": {},
   "outputs": [],
   "source": [
    "rows=df.count()"
   ]
  },
  {
   "cell_type": "code",
   "execution_count": 9,
   "id": "202fc7e6",
   "metadata": {},
   "outputs": [
    {
     "name": "stdout",
     "output_type": "stream",
     "text": [
      "3000507\n"
     ]
    }
   ],
   "source": [
    "print(rows)"
   ]
  },
  {
   "cell_type": "code",
   "execution_count": 10,
   "id": "cc27e83f",
   "metadata": {},
   "outputs": [
    {
     "data": {
      "text/plain": [
       "Row(vin='ZACNJABB5KPJ92081', back_legroom='35.1 in', bed=None, bed_height=None, bed_length=None, body_type='SUV / Crossover', cabin=None, city='Bayamon', city_fuel_economy=None, combine_fuel_economy=None, daysonmarket='522', dealer_zip='00960', description=\"[!@@Additional Info@@!]Engine: 2.4L I4 ZERO EVAP M-AIR,Full Size Temporary Use Spare Tire,Manufacturer's Statement of Origin,Quick Order Package 2XB,Tires: 215/60R17 BSW AS Touring,Transmission: 9-Speed 948TE Automatic,Wheels: 17' x 7.0' Aluminum\", engine_cylinders='I4', engine_displacement='1300.0', engine_type='I4', exterior_color='Solar Yellow', fleet=None, frame_damaged=None, franchise_dealer='True', franchise_make='Jeep', front_legroom='41.2 in', fuel_tank_volume='12.7 gal', fuel_type='Gasoline', has_accidents=None, height='66.5 in', highway_fuel_economy=None, horsepower='177.0', interior_color='Black', isCab=None, is_certified=None, is_cpo=None, is_new='True', is_oemcpo=None, latitude='18.3988', length='166.6 in', listed_date='2019-04-06', listing_color='YELLOW', listing_id='237132766', longitude='-66.1582', main_picture_url='https://static.cargurus.com/images/forsale/2020/05/18/18/53/2019_jeep_renegade-pic-3296019950109819645-152x114.jpeg', major_options=\"['Quick Order Package']\", make_name='Jeep', maximum_seating='5 seats', mileage='7.0', model_name='Renegade', owner_count=None, power='177 hp @ 5,750 RPM', price='23141.0', salvage=None, savings_amount='0', seller_rating='2.8', sp_id='370599', sp_name='Flagship Chrysler', theft_title=None, torque='200 lb-ft @ 1,750 RPM', transmission='A', transmission_display='9-Speed Automatic Overdrive', trimId='t83804', trim_name='Latitude FWD', vehicle_damage_category=None, wheel_system='FWD', wheel_system_display='Front-Wheel Drive', wheelbase='101.2 in', width='79.6 in', year='2019')"
      ]
     },
     "execution_count": 10,
     "metadata": {},
     "output_type": "execute_result"
    }
   ],
   "source": [
    "df.head()"
   ]
  },
  {
   "cell_type": "markdown",
   "id": "5af6f709",
   "metadata": {},
   "source": [
    "## TASK 1:Data Preprocessing: Calculate the percentage of null values for each column and eliminate columns containing over 20% null values."
   ]
  },
  {
   "cell_type": "code",
   "execution_count": 11,
   "id": "353812c1",
   "metadata": {},
   "outputs": [
    {
     "name": "stdout",
     "output_type": "stream",
     "text": [
      "Columns with more than 20% null values:\n",
      "bed\n",
      "bed_height\n",
      "bed_length\n",
      "cabin\n",
      "combine_fuel_economy\n",
      "fleet\n",
      "frame_damaged\n",
      "has_accidents\n",
      "isCab\n",
      "is_certified\n",
      "is_cpo\n",
      "is_oemcpo\n",
      "owner_count\n",
      "salvage\n",
      "theft_title\n",
      "vehicle_damage_category\n",
      "\n",
      "Null value percentage for remaining columns:\n",
      "vin: 0.00%\n",
      "back_legroom: 5.32%\n",
      "body_type: 0.46%\n",
      "city: 0.01%\n",
      "city_fuel_economy: 16.39%\n",
      "daysonmarket: 0.01%\n",
      "dealer_zip: 0.01%\n",
      "description: 2.61%\n",
      "engine_cylinders: 2.39%\n",
      "engine_displacement: 3.92%\n",
      "engine_type: 2.45%\n",
      "exterior_color: 0.13%\n",
      "franchise_dealer: 0.49%\n",
      "franchise_make: 17.02%\n",
      "front_legroom: 4.65%\n",
      "fuel_tank_volume: 4.50%\n",
      "fuel_type: 2.64%\n",
      "height: 4.16%\n",
      "highway_fuel_economy: 10.57%\n",
      "horsepower: 4.75%\n",
      "interior_color: 0.89%\n",
      "is_new: 2.16%\n",
      "latitude: 3.20%\n",
      "length: 6.37%\n",
      "listed_date: 2.49%\n",
      "listing_color: 2.04%\n",
      "listing_id: 1.53%\n",
      "longitude: 1.19%\n",
      "main_picture_url: 8.14%\n",
      "major_options: 6.95%\n",
      "make_name: 0.94%\n",
      "maximum_seating: 4.51%\n",
      "mileage: 2.38%\n",
      "model_name: 0.83%\n",
      "power: 10.92%\n",
      "price: 1.02%\n",
      "savings_amount: 1.38%\n",
      "seller_rating: 2.30%\n",
      "sp_id: 1.22%\n",
      "sp_name: 1.10%\n",
      "torque: 11.76%\n",
      "transmission: 2.73%\n",
      "transmission_display: 2.94%\n",
      "trimId: 3.99%\n",
      "trim_name: 3.86%\n",
      "wheel_system: 4.91%\n",
      "wheel_system_display: 5.06%\n",
      "wheelbase: 5.74%\n",
      "width: 5.67%\n",
      "year: 1.80%\n"
     ]
    }
   ],
   "source": [
    "from pyspark.sql.functions import col,count,when,isnan\n",
    "total_rows=df.count()\n",
    "null_count_of_columns=df.select([count(when(col(i).isNull()|isnan(i),i)).alias(i) for i in df.columns]).collect()[0]\n",
    "null_percentages={col_name:null_count/total_rows*100 for col_name,null_count in zip(df.columns,null_count_of_columns)}\n",
    "threshold=20\n",
    "columns_to_drop = [col for col,null_percentage in null_percentages.items() if null_percentage>threshold]\n",
    "cleaned_df = df.drop(*columns_to_drop)\n",
    "print(f\"Columns with more than {threshold}% null values:\")\n",
    "print(\"\\n\".join(columns_to_drop))\n",
    "print(\"\\nNull value percentage for remaining columns:\")\n",
    "for col, null_pct in null_percentages.items():\n",
    "    if col not in columns_to_drop:\n",
    "       print(f\"{col}: {null_pct:.2f}%\")"
   ]
  },
  {
   "cell_type": "code",
   "execution_count": 12,
   "id": "d83d6878",
   "metadata": {},
   "outputs": [
    {
     "data": {
      "text/plain": [
       "['vin',\n",
       " 'back_legroom',\n",
       " 'body_type',\n",
       " 'city',\n",
       " 'city_fuel_economy',\n",
       " 'daysonmarket',\n",
       " 'dealer_zip',\n",
       " 'description',\n",
       " 'engine_cylinders',\n",
       " 'engine_displacement',\n",
       " 'engine_type',\n",
       " 'exterior_color',\n",
       " 'franchise_dealer',\n",
       " 'franchise_make',\n",
       " 'front_legroom',\n",
       " 'fuel_tank_volume',\n",
       " 'fuel_type',\n",
       " 'height',\n",
       " 'highway_fuel_economy',\n",
       " 'horsepower',\n",
       " 'interior_color',\n",
       " 'is_new',\n",
       " 'latitude',\n",
       " 'length',\n",
       " 'listed_date',\n",
       " 'listing_color',\n",
       " 'listing_id',\n",
       " 'longitude',\n",
       " 'main_picture_url',\n",
       " 'major_options',\n",
       " 'make_name',\n",
       " 'maximum_seating',\n",
       " 'mileage',\n",
       " 'model_name',\n",
       " 'power',\n",
       " 'price',\n",
       " 'savings_amount',\n",
       " 'seller_rating',\n",
       " 'sp_id',\n",
       " 'sp_name',\n",
       " 'torque',\n",
       " 'transmission',\n",
       " 'transmission_display',\n",
       " 'trimId',\n",
       " 'trim_name',\n",
       " 'wheel_system',\n",
       " 'wheel_system_display',\n",
       " 'wheelbase',\n",
       " 'width',\n",
       " 'year']"
      ]
     },
     "execution_count": 12,
     "metadata": {},
     "output_type": "execute_result"
    }
   ],
   "source": [
    "cleaned_df.columns"
   ]
  },
  {
   "cell_type": "markdown",
   "id": "a0bfe385",
   "metadata": {},
   "source": [
    "## EDA : Determine the most common fuel type among the listed vehicles."
   ]
  },
  {
   "cell_type": "markdown",
   "id": "ee59e560",
   "metadata": {},
   "source": [
    "## Casting the type of fuel_type as string and showing it in descending order"
   ]
  },
  {
   "cell_type": "code",
   "execution_count": 13,
   "id": "8162382f",
   "metadata": {},
   "outputs": [
    {
     "name": "stdout",
     "output_type": "stream",
     "text": [
      "+-------------------------------------+-------+\n",
      "|fuel_type                            |count  |\n",
      "+-------------------------------------+-------+\n",
      "|Gasoline                             |1561374|\n",
      "|Flex Fuel Vehicle                    |86325  |\n",
      "|Hybrid                               |55165  |\n",
      "|True                                 |30395  |\n",
      "|4-Wheel Disc Brakes                  |24408  |\n",
      "|Diesel                               |24185  |\n",
      "|ABS brakes                           |23235  |\n",
      "|False                                |21159  |\n",
      "|Air Conditioning                     |19135  |\n",
      "|Tachometer                           |14911  |\n",
      "|Biodiesel                            |12975  |\n",
      "|Front Center Armrest                 |11527  |\n",
      "|Steering wheel mounted audio controls|11490  |\n",
      "|Electronic Stability Control         |11360  |\n",
      "|Electric                             |10530  |\n",
      "|Spoiler                              |9783   |\n",
      "|Front Bucket Seats                   |9460   |\n",
      "|AM/FM radio                          |8758   |\n",
      "|I4                                   |8621   |\n",
      "|Aluminum Wheels                      |8549   |\n",
      "+-------------------------------------+-------+\n",
      "only showing top 20 rows\n",
      "\n",
      "The most common fuel type is Gasoline\n"
     ]
    }
   ],
   "source": [
    "from pyspark.sql.functions import col\n",
    "reqd_col=\"fuel_type\"\n",
    "cleaned1_df = cleaned_df.withColumn(\"fuel_type\", cleaned_df[\"fuel_type\"].cast(\"string\"))\n",
    "reqd_col_freq = cleaned1_df.filter(col(reqd_col).isNotNull()).groupBy(reqd_col).count().orderBy(\"count\", ascending=False)\n",
    "reqd_col_freq.show(truncate=0)\n",
    "most_common_fuel_type=reqd_col_freq.select(reqd_col).first()[0]\n",
    "print(f\"The most common fuel type is {most_common_fuel_type}\")"
   ]
  },
  {
   "cell_type": "markdown",
   "id": "1f87e539",
   "metadata": {},
   "source": [
    "## EDA: Calculate the average horsepower of vehicles with the most common fuel type."
   ]
  },
  {
   "cell_type": "code",
   "execution_count": 14,
   "id": "881185a7",
   "metadata": {},
   "outputs": [
    {
     "name": "stdout",
     "output_type": "stream",
     "text": [
      "+--------------------+\n",
      "|          horsepower|\n",
      "+--------------------+\n",
      "|               247.0|\n",
      "|               151.0|\n",
      "| Rear Power Liftgate|\n",
      "|Cruise Control w/...|\n",
      "|             84.8 in|\n",
      "|  Sport Line Package|\n",
      "|AM/FM/CD/MP3 Audi...|\n",
      "| Delete Spray In ...|\n",
      "|LUXURY PACKAGE -i...|\n",
      "|PHYTONIC BLUE MET...|\n",
      "|               102.0|\n",
      "|     Aurora Black Pe|\n",
      "|Body Color Liftga...|\n",
      "|               602.0|\n",
      "|       Trip computer|\n",
      "|               302.0|\n",
      "|               360.0|\n",
      "|Gloss Black Door ...|\n",
      "| 8-way power adju...|\n",
      "|         Center Line|\n",
      "+--------------------+\n",
      "only showing top 20 rows\n",
      "\n"
     ]
    }
   ],
   "source": [
    "cleaned1_df.select('horsepower').distinct().show()"
   ]
  },
  {
   "cell_type": "markdown",
   "id": "d96cba60",
   "metadata": {},
   "source": [
    "## Casting horsepower's type as float"
   ]
  },
  {
   "cell_type": "code",
   "execution_count": 15,
   "id": "82d55fac",
   "metadata": {},
   "outputs": [],
   "source": [
    "from pyspark.sql import functions as F\n",
    "from pyspark.sql.functions import col, isnan, when, avg\n",
    "cleaned_hp = cleaned1_df.withColumn( 'horsepower', when(col('horsepower').cast('float').isNull(), None).otherwise(col('horsepower').cast('float')))"
   ]
  },
  {
   "cell_type": "markdown",
   "id": "4cdaf4c2",
   "metadata": {},
   "source": [
    "## Filtering out the out of range values using interquartile formula"
   ]
  },
  {
   "cell_type": "code",
   "execution_count": 16,
   "id": "3d1e556d",
   "metadata": {},
   "outputs": [],
   "source": [
    "from pyspark.sql import functions as F\n",
    "quartiles=cleaned_hp.approxQuantile('horsepower',[0.25,0.75],0.01)\n",
    "q1=quartiles[0]\n",
    "q3=quartiles[1]\n",
    "iqr=q3-q1\n",
    "lower_bound=q1-1.5*iqr\n",
    "upper_bound=q3+1.5*iqr\n",
    "cleaned_hp = cleaned_hp.filter((col('horsepower') >= lower_bound) & (col('horsepower') <= upper_bound))"
   ]
  },
  {
   "cell_type": "code",
   "execution_count": 17,
   "id": "74411ed8",
   "metadata": {},
   "outputs": [
    {
     "name": "stdout",
     "output_type": "stream",
     "text": [
      "The average of horsepower of vehicles with the most common fuel type is 232.682\n"
     ]
    }
   ],
   "source": [
    "common_fuel_df=cleaned_hp.filter(cleaned_hp[reqd_col]==most_common_fuel_type)\n",
    "common_fuel_num_hp= common_fuel_df.filter(col(\"horsepower\").isNotNull())\n",
    "avg_hp = common_fuel_num_hp.agg(avg('horsepower')).first()[0]\n",
    "print(f\"The average of horsepower of vehicles with the most common fuel type is {avg_hp:.3f}\")"
   ]
  },
  {
   "cell_type": "code",
   "execution_count": 18,
   "id": "57d0a8a0",
   "metadata": {},
   "outputs": [
    {
     "name": "stdout",
     "output_type": "stream",
     "text": [
      "+----------+\n",
      "|horsepower|\n",
      "+----------+\n",
      "|     177.0|\n",
      "|     246.0|\n",
      "|     305.0|\n",
      "|     340.0|\n",
      "|     246.0|\n",
      "|     247.0|\n",
      "|     186.0|\n",
      "|     247.0|\n",
      "|     246.0|\n",
      "|     296.0|\n",
      "|     237.0|\n",
      "|     246.0|\n",
      "|     320.0|\n",
      "|     247.0|\n",
      "|     186.0|\n",
      "|     186.0|\n",
      "|     246.0|\n",
      "|     247.0|\n",
      "|     247.0|\n",
      "|     246.0|\n",
      "+----------+\n",
      "only showing top 20 rows\n",
      "\n"
     ]
    }
   ],
   "source": [
    "cleaned_hp.select('horsepower').show()"
   ]
  },
  {
   "cell_type": "markdown",
   "id": "152b9044",
   "metadata": {},
   "source": [
    "## EDA :  Explore the distribution of city_fuel_economy across different cities."
   ]
  },
  {
   "cell_type": "markdown",
   "id": "aeb65f05",
   "metadata": {},
   "source": [
    "## Exploring the city fuel economy column"
   ]
  },
  {
   "cell_type": "code",
   "execution_count": 19,
   "id": "a01d409e",
   "metadata": {},
   "outputs": [
    {
     "name": "stdout",
     "output_type": "stream",
     "text": [
      "Null value count for 'city_fuel_economy' column: 79067\n"
     ]
    }
   ],
   "source": [
    "from pyspark.sql.functions import col, count, isnan, when\n",
    "null_count_cfe = cleaned_df.select(count(when(isnan('fuel_type') | col('fuel_type').isNull(), 'city_fuel_economy'))).collect()[0][0]\n",
    "print(f\"Null value count for 'city_fuel_economy' column: {null_count_cfe}\")"
   ]
  },
  {
   "cell_type": "markdown",
   "id": "e9c97840",
   "metadata": {},
   "source": [
    "## Exploring the city column"
   ]
  },
  {
   "cell_type": "code",
   "execution_count": 20,
   "id": "6e589b9d",
   "metadata": {},
   "outputs": [
    {
     "name": "stdout",
     "output_type": "stream",
     "text": [
      "+------------------+-----+\n",
      "|              city|count|\n",
      "+------------------+-----+\n",
      "|       Springfield|10761|\n",
      "|          Oakhurst|  329|\n",
      "|     Lawrenceville| 1847|\n",
      "|        Plainfield| 2366|\n",
      "|         Levittown|  851|\n",
      "|      Saddle Brook|   16|\n",
      "|           Wantage|   49|\n",
      "|        Douglaston|  224|\n",
      "|       Lindenhurst|  198|\n",
      "|          Lynbrook|  428|\n",
      "|         Bay Shore| 1104|\n",
      "|         Fair Lawn|  472|\n",
      "|     Windsor Locks|  164|\n",
      "|        Woodbridge| 5034|\n",
      "|Huntington Station| 1123|\n",
      "|      White Plains| 1299|\n",
      "|        Manchester| 5535|\n",
      "|           Trenton| 1382|\n",
      "|         Smithtown|  625|\n",
      "|         Riverdale| 1053|\n",
      "+------------------+-----+\n",
      "only showing top 20 rows\n",
      "\n"
     ]
    }
   ],
   "source": [
    "city_grp=cleaned_df.groupBy('city')\n",
    "city_count=city_grp.count()\n",
    "city_count.show()"
   ]
  },
  {
   "cell_type": "code",
   "execution_count": 21,
   "id": "d2dede90",
   "metadata": {},
   "outputs": [
    {
     "name": "stdout",
     "output_type": "stream",
     "text": [
      "root\n",
      " |-- vin: string (nullable = true)\n",
      " |-- back_legroom: string (nullable = true)\n",
      " |-- body_type: string (nullable = true)\n",
      " |-- city: string (nullable = true)\n",
      " |-- city_fuel_economy: string (nullable = true)\n",
      " |-- daysonmarket: string (nullable = true)\n",
      " |-- dealer_zip: string (nullable = true)\n",
      " |-- description: string (nullable = true)\n",
      " |-- engine_cylinders: string (nullable = true)\n",
      " |-- engine_displacement: string (nullable = true)\n",
      " |-- engine_type: string (nullable = true)\n",
      " |-- exterior_color: string (nullable = true)\n",
      " |-- franchise_dealer: string (nullable = true)\n",
      " |-- franchise_make: string (nullable = true)\n",
      " |-- front_legroom: string (nullable = true)\n",
      " |-- fuel_tank_volume: string (nullable = true)\n",
      " |-- fuel_type: string (nullable = true)\n",
      " |-- height: string (nullable = true)\n",
      " |-- highway_fuel_economy: string (nullable = true)\n",
      " |-- horsepower: string (nullable = true)\n",
      " |-- interior_color: string (nullable = true)\n",
      " |-- is_new: string (nullable = true)\n",
      " |-- latitude: string (nullable = true)\n",
      " |-- length: string (nullable = true)\n",
      " |-- listed_date: string (nullable = true)\n",
      " |-- listing_color: string (nullable = true)\n",
      " |-- listing_id: string (nullable = true)\n",
      " |-- longitude: string (nullable = true)\n",
      " |-- main_picture_url: string (nullable = true)\n",
      " |-- major_options: string (nullable = true)\n",
      " |-- make_name: string (nullable = true)\n",
      " |-- maximum_seating: string (nullable = true)\n",
      " |-- mileage: string (nullable = true)\n",
      " |-- model_name: string (nullable = true)\n",
      " |-- power: string (nullable = true)\n",
      " |-- price: string (nullable = true)\n",
      " |-- savings_amount: string (nullable = true)\n",
      " |-- seller_rating: string (nullable = true)\n",
      " |-- sp_id: string (nullable = true)\n",
      " |-- sp_name: string (nullable = true)\n",
      " |-- torque: string (nullable = true)\n",
      " |-- transmission: string (nullable = true)\n",
      " |-- transmission_display: string (nullable = true)\n",
      " |-- trimId: string (nullable = true)\n",
      " |-- trim_name: string (nullable = true)\n",
      " |-- wheel_system: string (nullable = true)\n",
      " |-- wheel_system_display: string (nullable = true)\n",
      " |-- wheelbase: string (nullable = true)\n",
      " |-- width: string (nullable = true)\n",
      " |-- year: string (nullable = true)\n",
      "\n"
     ]
    }
   ],
   "source": [
    "cleaned_df.printSchema()"
   ]
  },
  {
   "cell_type": "code",
   "execution_count": 22,
   "id": "a7caa71b",
   "metadata": {},
   "outputs": [
    {
     "name": "stdout",
     "output_type": "stream",
     "text": [
      "+------------------+\n",
      "|              city|\n",
      "+------------------+\n",
      "|       Springfield|\n",
      "|          Oakhurst|\n",
      "|     Lawrenceville|\n",
      "|        Plainfield|\n",
      "|         Levittown|\n",
      "|      Saddle Brook|\n",
      "|           Wantage|\n",
      "|        Douglaston|\n",
      "|       Lindenhurst|\n",
      "|          Lynbrook|\n",
      "|         Bay Shore|\n",
      "|         Fair Lawn|\n",
      "|     Windsor Locks|\n",
      "|        Woodbridge|\n",
      "|Huntington Station|\n",
      "|      White Plains|\n",
      "|        Manchester|\n",
      "|           Trenton|\n",
      "|         Smithtown|\n",
      "|         Riverdale|\n",
      "+------------------+\n",
      "only showing top 20 rows\n",
      "\n"
     ]
    }
   ],
   "source": [
    "cleaned_df.select('city').distinct().show()"
   ]
  },
  {
   "cell_type": "markdown",
   "id": "35073a17",
   "metadata": {},
   "source": [
    "## Cleaning the city_fuel_economy column"
   ]
  },
  {
   "cell_type": "code",
   "execution_count": 23,
   "id": "c250f201",
   "metadata": {},
   "outputs": [
    {
     "name": "stdout",
     "output_type": "stream",
     "text": [
      "+-----------------+\n",
      "|city_fuel_economy|\n",
      "+-----------------+\n",
      "|             NULL|\n",
      "|             NULL|\n",
      "|             17.0|\n",
      "|             NULL|\n",
      "|             NULL|\n",
      "|             NULL|\n",
      "|             NULL|\n",
      "|             NULL|\n",
      "|             NULL|\n",
      "|             NULL|\n",
      "|             NULL|\n",
      "|             NULL|\n",
      "|             22.0|\n",
      "|             NULL|\n",
      "|             NULL|\n",
      "|             NULL|\n",
      "|             NULL|\n",
      "|             NULL|\n",
      "|             NULL|\n",
      "|             NULL|\n",
      "+-----------------+\n",
      "only showing top 20 rows\n",
      "\n"
     ]
    }
   ],
   "source": [
    "cleaned_df.select('city_fuel_economy').show()"
   ]
  },
  {
   "cell_type": "code",
   "execution_count": 24,
   "id": "0645484b",
   "metadata": {},
   "outputs": [
    {
     "name": "stdout",
     "output_type": "stream",
     "text": [
      "+---------+-----------------+\n",
      "|     city|city_fuel_economy|\n",
      "+---------+-----------------+\n",
      "| Guaynabo|             17.0|\n",
      "| Guaynabo|             22.0|\n",
      "|Bay Shore|             27.0|\n",
      "|    Bronx|             18.0|\n",
      "|Bay Shore|             18.0|\n",
      "|Bay Shore|             15.0|\n",
      "|Bay Shore|             18.0|\n",
      "|    Bronx|             20.0|\n",
      "|    Bronx|             27.0|\n",
      "|    Bronx|             18.0|\n",
      "|Bay Shore|             18.0|\n",
      "|Bay Shore|             24.0|\n",
      "|    Bronx|             23.0|\n",
      "|    Bronx|             18.0|\n",
      "|Bay Shore|             18.0|\n",
      "|Bay Shore|             24.0|\n",
      "|    Bronx|             16.0|\n",
      "|    Bronx|             18.0|\n",
      "|    Bronx|             18.0|\n",
      "|    Bronx|             19.0|\n",
      "+---------+-----------------+\n",
      "only showing top 20 rows\n",
      "\n"
     ]
    }
   ],
   "source": [
    "filtered_df=cleaned_df.select('city','city_fuel_economy')\n",
    "filtered_df=filtered_df.dropna(subset=['city_fuel_economy'])\n",
    "filtered_df.show()"
   ]
  },
  {
   "cell_type": "code",
   "execution_count": 25,
   "id": "8044bd9c",
   "metadata": {},
   "outputs": [
    {
     "name": "stdout",
     "output_type": "stream",
     "text": [
      "root\n",
      " |-- city: string (nullable = true)\n",
      " |-- city_fuel_economy: string (nullable = true)\n",
      "\n"
     ]
    }
   ],
   "source": [
    "filtered_df.printSchema()"
   ]
  },
  {
   "cell_type": "markdown",
   "id": "ef6b61b6",
   "metadata": {},
   "source": [
    "## Converting the type of city_fuel_economy from string to double and replacing special characters"
   ]
  },
  {
   "cell_type": "code",
   "execution_count": 26,
   "id": "68508a21",
   "metadata": {},
   "outputs": [
    {
     "data": {
      "text/plain": [
       "Row(city='Guaynabo', city_fuel_economy=17.0)"
      ]
     },
     "execution_count": 26,
     "metadata": {},
     "output_type": "execute_result"
    }
   ],
   "source": [
    "from pyspark.sql.functions import col,trim,regexp_replace,when,isnan\n",
    "filtered_df=filtered_df.withColumn('city_fuel_economy',trim(regexp_replace('city_fuel_economy',r'[^0-9\\.]','')))\n",
    "cleaned_fuel_economy=when(col('city_fuel_economy')!='',col('city_fuel_economy').cast('double')).otherwise(None)\n",
    "filtered_df=filtered_df.withColumn('city_fuel_economy',cleaned_fuel_economy)\n",
    "filtered_df=filtered_df.dropna(subset=['city_fuel_economy'])\n",
    "filtered_df.head()"
   ]
  },
  {
   "cell_type": "code",
   "execution_count": 27,
   "id": "a13b3278",
   "metadata": {},
   "outputs": [
    {
     "name": "stdout",
     "output_type": "stream",
     "text": [
      "+-----------------+\n",
      "|city_fuel_economy|\n",
      "+-----------------+\n",
      "|             70.0|\n",
      "|            124.0|\n",
      "|            175.4|\n",
      "|   177.5255751781|\n",
      "|       455614.344|\n",
      "|             88.0|\n",
      "|             49.0|\n",
      "|            101.0|\n",
      "|             29.0|\n",
      "|             64.0|\n",
      "|             47.0|\n",
      "|             42.0|\n",
      "|             44.0|\n",
      "|             35.0|\n",
      "|             62.0|\n",
      "|             18.0|\n",
      "|            120.0|\n",
      "|             39.0|\n",
      "|             94.0|\n",
      "|            114.0|\n",
      "+-----------------+\n",
      "only showing top 20 rows\n",
      "\n"
     ]
    }
   ],
   "source": [
    "filtered_df.select('city_fuel_economy').distinct().show()"
   ]
  },
  {
   "cell_type": "markdown",
   "id": "debc82ba",
   "metadata": {},
   "source": [
    "## Removing outliers from city_fuel_economy"
   ]
  },
  {
   "cell_type": "code",
   "execution_count": 28,
   "id": "ab183210",
   "metadata": {},
   "outputs": [],
   "source": [
    "from pyspark.sql import functions as F\n",
    "from pyspark.sql.functions import col\n",
    "quartiles = filtered_df.stat.approxQuantile('city_fuel_economy', [0.25, 0.75], 0.01) \n",
    "q1 = quartiles[0]\n",
    "q3 = quartiles[1]\n",
    "iqr = q3 - q1\n",
    "lower_bound = q1 - 1.5 * iqr\n",
    "upper_bound = q3 + 1.5 * iqr\n",
    "filtered_df = filtered_df.filter((col('city_fuel_economy') >= lower_bound) & (col('city_fuel_economy') <= upper_bound))"
   ]
  },
  {
   "cell_type": "code",
   "execution_count": 29,
   "id": "6927de17",
   "metadata": {},
   "outputs": [
    {
     "name": "stdout",
     "output_type": "stream",
     "text": [
      "Minimum value after filtering: 6.0\n",
      "Maximum value after filtering: 38.0\n"
     ]
    }
   ],
   "source": [
    "min_value=filtered_df.agg(F.min('city_fuel_economy')).collect()[0][0]\n",
    "max_value=filtered_df.agg(F.max('city_fuel_economy')).collect()[0][0]\n",
    "print(\"Minimum value after filtering:\",min_value)\n",
    "print(\"Maximum value after filtering:\",max_value)"
   ]
  },
  {
   "cell_type": "markdown",
   "id": "c248eb05",
   "metadata": {},
   "source": [
    "## Cleaning city column"
   ]
  },
  {
   "cell_type": "code",
   "execution_count": 30,
   "id": "19d6ba79",
   "metadata": {},
   "outputs": [
    {
     "name": "stdout",
     "output_type": "stream",
     "text": [
      "+-------------+-----+\n",
      "|city         |count|\n",
      "+-------------+-----+\n",
      "|Houston      |43777|\n",
      "|San Antonio  |24947|\n",
      "|Columbus     |18333|\n",
      "|Miami        |18198|\n",
      "|Jacksonville |16837|\n",
      "|Las Vegas    |16396|\n",
      "|Tampa        |15353|\n",
      "|Phoenix      |14791|\n",
      "|Dallas       |14641|\n",
      "|Orlando      |14499|\n",
      "|Austin       |14220|\n",
      "|Columbia     |12778|\n",
      "|Indianapolis |12317|\n",
      "|Cincinnati   |12212|\n",
      "|Charlotte    |11189|\n",
      "|Tucson       |11028|\n",
      "|Denver       |10921|\n",
      "|Springfield  |10761|\n",
      "|Oklahoma City|10459|\n",
      "|El Paso      |9719 |\n",
      "+-------------+-----+\n",
      "only showing top 20 rows\n",
      "\n"
     ]
    }
   ],
   "source": [
    "from pyspark.sql.functions import col\n",
    "reqd_col=\"city\"\n",
    "filtered_df =filtered_df.withColumn(\"city\",filtered_df[\"city\"].cast(\"string\"))\n",
    "reqd_col_freq = df.filter(col(reqd_col).isNotNull()).groupBy(reqd_col).count().orderBy(\"count\",ascending=False)\n",
    "reqd_col_freq.show(truncate=0)"
   ]
  },
  {
   "cell_type": "code",
   "execution_count": 31,
   "id": "f01452ad",
   "metadata": {},
   "outputs": [
    {
     "name": "stdout",
     "output_type": "stream",
     "text": [
      "+---------+\n",
      "|     city|\n",
      "+---------+\n",
      "| Guaynabo|\n",
      "| Guaynabo|\n",
      "|Bay Shore|\n",
      "|    Bronx|\n",
      "|Bay Shore|\n",
      "|Bay Shore|\n",
      "|Bay Shore|\n",
      "|    Bronx|\n",
      "|    Bronx|\n",
      "|    Bronx|\n",
      "|Bay Shore|\n",
      "|Bay Shore|\n",
      "|    Bronx|\n",
      "|    Bronx|\n",
      "|Bay Shore|\n",
      "|Bay Shore|\n",
      "|    Bronx|\n",
      "|    Bronx|\n",
      "|    Bronx|\n",
      "|    Bronx|\n",
      "+---------+\n",
      "only showing top 20 rows\n",
      "\n"
     ]
    }
   ],
   "source": [
    "filtered_df.select('city').show()"
   ]
  },
  {
   "cell_type": "code",
   "execution_count": 32,
   "id": "7aef2dfb",
   "metadata": {
    "scrolled": false
   },
   "outputs": [
    {
     "name": "stdout",
     "output_type": "stream",
     "text": [
      "+-------+------------------+\n",
      "|summary|  avg_fuel_economy|\n",
      "+-------+------------------+\n",
      "|  count|              4667|\n",
      "|   mean|  20.5099140524143|\n",
      "| stddev|2.0955218763674077|\n",
      "|    min|               6.0|\n",
      "|    max|              30.0|\n",
      "+-------+------------------+\n",
      "\n"
     ]
    }
   ],
   "source": [
    "from pyspark.sql import functions as F\n",
    "city_fuel_economy=filtered_df.groupBy('city').agg(F.mean('city_fuel_economy').alias('avg_fuel_economy'))\n",
    "city_fuel_economy.select('avg_fuel_economy').describe().show()"
   ]
  },
  {
   "cell_type": "code",
   "execution_count": 33,
   "id": "8649641c",
   "metadata": {},
   "outputs": [
    {
     "data": {
      "image/png": "[encoded data removed]",
      "text/plain": [
       "<Figure size 1000x600 with 1 Axes>"
      ]
     },
     "metadata": {},
     "output_type": "display_data"
    }
   ],
   "source": [
    "city_fuel_economy_pd=filtered_df.select('city_fuel_economy').toPandas()\n",
    "import matplotlib.pyplot as plt\n",
    "plt.figure(figsize=(10,6))\n",
    "city_fuel_economy_pd['city_fuel_economy'].hist(bins=20,density=True,alpha=0.6)\n",
    "plt.title('Distribution of City Fuel Economy')\n",
    "plt.xlabel('City fuel economy')\n",
    "plt.ylabel('Density of cities')\n",
    "plt.show()"
   ]
  },
  {
   "cell_type": "markdown",
   "id": "f4dcc658",
   "metadata": {},
   "source": [
    "## EDA : Analyze the distribution of vehicle types in the dataset."
   ]
  },
  {
   "cell_type": "code",
   "execution_count": 34,
   "id": "35f75a23",
   "metadata": {},
   "outputs": [
    {
     "name": "stdout",
     "output_type": "stream",
     "text": [
      "+--------------------+-------+\n",
      "|           body_type|  count|\n",
      "+--------------------+-------+\n",
      "|     SUV / Crossover|1416402|\n",
      "|               Sedan| 742036|\n",
      "|        Pickup Truck| 474595|\n",
      "|           Hatchback|  88374|\n",
      "|             Minivan|  79802|\n",
      "|               Coupe|  71607|\n",
      "|                 Van|  47166|\n",
      "|               Wagon|  40505|\n",
      "|         Convertible|  26010|\n",
      "|                NULL|  13918|\n",
      "|               False|     16|\n",
      "|        Brake Assist|      8|\n",
      "| DOHC with Variab...|      3|\n",
      "|              5000.0|      2|\n",
      "|               White|      2|\n",
      "|                True|      2|\n",
      "|    'Premium Wheels'|      2|\n",
      "|                  SD|      2|\n",
      "| we are not respo...|      2|\n",
      "|      'Heated Seats'|      1|\n",
      "+--------------------+-------+\n",
      "only showing top 20 rows\n",
      "\n"
     ]
    }
   ],
   "source": [
    "from pyspark.sql import functions as F\n",
    "body_type_distribution = cleaned_df.groupBy('body_type').agg(F.count('*').alias('count'))\n",
    "body_type_distribution=body_type_distribution.orderBy(F.desc('count'))\n",
    "body_type_distribution.show()"
   ]
  },
  {
   "cell_type": "markdown",
   "id": "444ca192",
   "metadata": {},
   "source": [
    "## Filtering and keeping only the valid body types and ordering them in descending order by count "
   ]
  },
  {
   "cell_type": "code",
   "execution_count": 35,
   "id": "21b7e920",
   "metadata": {},
   "outputs": [
    {
     "name": "stdout",
     "output_type": "stream",
     "text": [
      "+---------------+-------+\n",
      "|      body_type|  count|\n",
      "+---------------+-------+\n",
      "|SUV / Crossover|1416402|\n",
      "|          Sedan| 742036|\n",
      "|   Pickup Truck| 474595|\n",
      "|      Hatchback|  88374|\n",
      "|        Minivan|  79802|\n",
      "|          Coupe|  71607|\n",
      "|            Van|  47166|\n",
      "|          Wagon|  40505|\n",
      "|    Convertible|  26010|\n",
      "+---------------+-------+\n",
      "\n"
     ]
    }
   ],
   "source": [
    "cleaned_body_type_df=cleaned_df.filter(cleaned_df['body_type'].isin(['SUV / Crossover','Sedan','Pickup Truck','Minivan','Hatchback','Coupe','Wagon','Convertible','Van']))\n",
    "body_type_distribution = cleaned_body_type_df.groupBy('body_type').agg(F.count('*').alias('count'))\n",
    "body_type_distribution=body_type_distribution.orderBy(F.desc('count'))\n",
    "body_type_distribution.show()"
   ]
  },
  {
   "cell_type": "code",
   "execution_count": 36,
   "id": "1fd95de7",
   "metadata": {},
   "outputs": [
    {
     "data": {
      "image/png": "[encoded data removed]",
      "text/plain": [
       "<Figure size 1000x600 with 1 Axes>"
      ]
     },
     "metadata": {},
     "output_type": "display_data"
    }
   ],
   "source": [
    "import matplotlib.pyplot as plt\n",
    "body_types = ['SUV / Crossover', 'Sedan', 'Pickup Truck', 'Minivan', 'Hatchback']\n",
    "counts = [1416402, 742036, 474595, 88374, 79802]\n",
    "plt.figure(figsize=(10, 6))\n",
    "plt.bar(body_types, counts, color='blue')\n",
    "plt.xlabel('Body Type')\n",
    "plt.ylabel('Count')\n",
    "plt.title('Distribution of Vehicle Body Types')\n",
    "plt.xticks(rotation=45)\n",
    "plt.tight_layout\n",
    "plt.show()"
   ]
  },
  {
   "cell_type": "markdown",
   "id": "7105dbb1",
   "metadata": {},
   "source": [
    "## ADVANCED ANALYSIS : Examine the price trend over the years for the top 5 most popular body_types and visualize it."
   ]
  },
  {
   "cell_type": "code",
   "execution_count": 37,
   "id": "5307908e",
   "metadata": {},
   "outputs": [
    {
     "name": "stdout",
     "output_type": "stream",
     "text": [
      "+---------------+\n",
      "|      body_type|\n",
      "+---------------+\n",
      "|SUV / Crossover|\n",
      "|SUV / Crossover|\n",
      "|          Sedan|\n",
      "|SUV / Crossover|\n",
      "|SUV / Crossover|\n",
      "|SUV / Crossover|\n",
      "|          Sedan|\n",
      "|SUV / Crossover|\n",
      "|SUV / Crossover|\n",
      "|SUV / Crossover|\n",
      "|SUV / Crossover|\n",
      "|          Sedan|\n",
      "|SUV / Crossover|\n",
      "|          Sedan|\n",
      "|          Sedan|\n",
      "|SUV / Crossover|\n",
      "|SUV / Crossover|\n",
      "|SUV / Crossover|\n",
      "|SUV / Crossover|\n",
      "|          Sedan|\n",
      "+---------------+\n",
      "only showing top 20 rows\n",
      "\n"
     ]
    }
   ],
   "source": [
    "cleaned_body_type1_df = cleaned_df.filter(cleaned_df['body_type'].isin(['SUV / Crossover', 'Sedan', 'Pickup Truck', 'Minivan', 'Hatchback']))\n",
    "cleaned_body_type1_df.select('body_type').show()"
   ]
  },
  {
   "cell_type": "code",
   "execution_count": 38,
   "id": "84ece36b",
   "metadata": {},
   "outputs": [
    {
     "name": "stdout",
     "output_type": "stream",
     "text": [
      "+-------+\n",
      "|  price|\n",
      "+-------+\n",
      "|23141.0|\n",
      "|46500.0|\n",
      "|46995.0|\n",
      "|67430.0|\n",
      "|48880.0|\n",
      "|66903.0|\n",
      "|23695.0|\n",
      "|68520.0|\n",
      "|51245.0|\n",
      "|84399.0|\n",
      "|51885.0|\n",
      "|58995.0|\n",
      "|68725.0|\n",
      "|23695.0|\n",
      "|23695.0|\n",
      "|52275.0|\n",
      "|68760.0|\n",
      "|68760.0|\n",
      "|53770.0|\n",
      "|23695.0|\n",
      "+-------+\n",
      "only showing top 20 rows\n",
      "\n"
     ]
    }
   ],
   "source": [
    "cleaned_body_type1_df.select('price').show()"
   ]
  },
  {
   "cell_type": "markdown",
   "id": "c3bd3109",
   "metadata": {},
   "source": [
    "## Exploring the random values in the year column"
   ]
  },
  {
   "cell_type": "code",
   "execution_count": 39,
   "id": "699238ed",
   "metadata": {},
   "outputs": [
    {
     "name": "stdout",
     "output_type": "stream",
     "text": [
      "+--------------------+\n",
      "|                year|\n",
      "+--------------------+\n",
      "|       Trip computer|\n",
      "|Bright Rotary Shi...|\n",
      "|              SV AWD|\n",
      "|            14.8 gal|\n",
      "|4-Speed Automatic...|\n",
      "|            112.2 in|\n",
      "|              t75195|\n",
      "|             LTZ FWD|\n",
      "|                 1.0|\n",
      "|Tire pressure mon...|\n",
      "|    Traction control|\n",
      "|              t43978|\n",
      "|SiriusXM Traffic ...|\n",
      "|Chrome/Leather Wr...|\n",
      "|          Volkswagen|\n",
      "|https://static.ca...|\n",
      "|       USB Host Flip|\n",
      "|             39054.0|\n",
      "|   Stability control|\n",
      "|              t59702|\n",
      "+--------------------+\n",
      "only showing top 20 rows\n",
      "\n"
     ]
    }
   ],
   "source": [
    "cleaned_body_type1_df.select('year').distinct().show()"
   ]
  },
  {
   "cell_type": "code",
   "execution_count": 40,
   "id": "2787e15f",
   "metadata": {},
   "outputs": [
    {
     "name": "stdout",
     "output_type": "stream",
     "text": [
      "+----+\n",
      "|year|\n",
      "+----+\n",
      "|2019|\n",
      "|2020|\n",
      "|2016|\n",
      "|2020|\n",
      "|2020|\n",
      "|2020|\n",
      "|2019|\n",
      "|2020|\n",
      "|2020|\n",
      "|2020|\n",
      "|2020|\n",
      "|2016|\n",
      "|2020|\n",
      "|2019|\n",
      "|2019|\n",
      "|2020|\n",
      "|2020|\n",
      "|2020|\n",
      "|2020|\n",
      "|2019|\n",
      "+----+\n",
      "only showing top 20 rows\n",
      "\n"
     ]
    }
   ],
   "source": [
    "cleaned_body_type1_df.select('year').show()"
   ]
  },
  {
   "cell_type": "code",
   "execution_count": 41,
   "id": "bde6eb77",
   "metadata": {},
   "outputs": [
    {
     "name": "stdout",
     "output_type": "stream",
     "text": [
      "Null value percentage for 'year': 1.72%\n"
     ]
    }
   ],
   "source": [
    "from pyspark.sql.functions import col, count, isnan, when\n",
    "total_rows = cleaned_body_type1_df.count()\n",
    "null_count_year = cleaned_body_type1_df.select(count(when(isnan('year') | col('year').isNull(), 'year'))).collect()[0][0]\n",
    "null_percentage_year = null_count_year / total_rows * 100\n",
    "print(f\"Null value percentage for 'year': {null_percentage_year:.2f}%\")"
   ]
  },
  {
   "cell_type": "markdown",
   "id": "333bd55b",
   "metadata": {},
   "source": [
    "## Dropping null values from year"
   ]
  },
  {
   "cell_type": "code",
   "execution_count": 42,
   "id": "a4952f80",
   "metadata": {},
   "outputs": [],
   "source": [
    "from pyspark.sql.types import IntegerType\n",
    "cleaned_body_type1_df=cleaned_body_type1_df.dropna(subset=['year'])\n",
    "cleaned_body_type1_df=cleaned_body_type1_df.withColumn(\"year\",col(\"year\").cast(IntegerType()))"
   ]
  },
  {
   "cell_type": "code",
   "execution_count": 43,
   "id": "4d8937a3",
   "metadata": {},
   "outputs": [
    {
     "name": "stdout",
     "output_type": "stream",
     "text": [
      "+---------+\n",
      "|     year|\n",
      "+---------+\n",
      "|     1990|\n",
      "|    56387|\n",
      "|      -73|\n",
      "|       34|\n",
      "|     2003|\n",
      "|     2342|\n",
      "|     2007|\n",
      "|267916481|\n",
      "|     2018|\n",
      "|      300|\n",
      "|     2015|\n",
      "|       26|\n",
      "|    38155|\n",
      "|      271|\n",
      "|276719348|\n",
      "|     1955|\n",
      "|     2006|\n",
      "|     3500|\n",
      "|   186126|\n",
      "|280909300|\n",
      "+---------+\n",
      "only showing top 20 rows\n",
      "\n"
     ]
    }
   ],
   "source": [
    " cleaned_body_type1_df.select('year').distinct().show()"
   ]
  },
  {
   "cell_type": "markdown",
   "id": "fa1c9b61",
   "metadata": {},
   "source": [
    "## Filtering out the years between 2011 and 2021"
   ]
  },
  {
   "cell_type": "code",
   "execution_count": 44,
   "id": "3b2bdb3b",
   "metadata": {},
   "outputs": [
    {
     "name": "stdout",
     "output_type": "stream",
     "text": [
      "+----+\n",
      "|year|\n",
      "+----+\n",
      "|2018|\n",
      "|2015|\n",
      "|2013|\n",
      "|2014|\n",
      "|2019|\n",
      "|2020|\n",
      "|2012|\n",
      "|2016|\n",
      "|2017|\n",
      "|2021|\n",
      "+----+\n",
      "\n"
     ]
    }
   ],
   "source": [
    "cleaned_body_type1_df = cleaned_body_type1_df.filter((col(\"year\") > 2011) & (col(\"year\") <= 2021))\n",
    "cleaned_body_type1_df.select('year').distinct().show()"
   ]
  },
  {
   "cell_type": "code",
   "execution_count": 45,
   "id": "b1eab37a",
   "metadata": {},
   "outputs": [
    {
     "name": "stdout",
     "output_type": "stream",
     "text": [
      "+----+------+\n",
      "|year| count|\n",
      "+----+------+\n",
      "|2020|700887|\n",
      "|2017|191279|\n",
      "|2019|151646|\n",
      "|2018|114512|\n",
      "|2021|104485|\n",
      "|2016| 73091|\n",
      "|2015| 58003|\n",
      "|2014| 49166|\n",
      "|2013| 45896|\n",
      "|2012| 36249|\n",
      "+----+------+\n",
      "\n"
     ]
    }
   ],
   "source": [
    "from pyspark.sql import functions as F\n",
    "yeardist = cleaned_body_type1_df.groupBy('year').agg(F.count('*').alias('count'))\n",
    "yeardist = yeardist.orderBy(F.desc('count'))\n",
    "yeardist.show(100)"
   ]
  },
  {
   "cell_type": "markdown",
   "id": "93b6cfac",
   "metadata": {},
   "source": [
    "## Exploring price column"
   ]
  },
  {
   "cell_type": "code",
   "execution_count": 46,
   "id": "3a53f2c5",
   "metadata": {},
   "outputs": [
    {
     "name": "stdout",
     "output_type": "stream",
     "text": [
      "+-------+\n",
      "|  price|\n",
      "+-------+\n",
      "|46470.0|\n",
      "|12891.0|\n",
      "|40105.0|\n",
      "|32267.0|\n",
      "|43185.0|\n",
      "|42520.0|\n",
      "|37975.0|\n",
      "|55670.0|\n",
      "|12985.0|\n",
      "|73200.0|\n",
      "|25885.0|\n",
      "|13178.0|\n",
      "|50176.0|\n",
      "|36249.0|\n",
      "|59122.0|\n",
      "|52074.0|\n",
      "|52195.0|\n",
      "|35680.0|\n",
      "|36230.0|\n",
      "|51925.0|\n",
      "+-------+\n",
      "only showing top 20 rows\n",
      "\n"
     ]
    }
   ],
   "source": [
    "cleaned_body_type1_df.select('price').distinct().show()"
   ]
  },
  {
   "cell_type": "code",
   "execution_count": 47,
   "id": "57b48bba",
   "metadata": {},
   "outputs": [
    {
     "name": "stdout",
     "output_type": "stream",
     "text": [
      "Null value percentage for 'price': 0.00%\n"
     ]
    }
   ],
   "source": [
    "from pyspark.sql.functions import col, count, isnan, when\n",
    "total_rows = cleaned_body_type1_df.count()\n",
    "null_count_price = cleaned_body_type1_df.select(count(when(isnan('price')|col('price').isNull(),'price'))).collect()[0][0]\n",
    "null_percentage_price = null_count_price/ total_rows * 100\n",
    "print(f\"Null value percentage for 'price': {null_percentage_price:.2f}%\")"
   ]
  },
  {
   "cell_type": "code",
   "execution_count": 48,
   "id": "e259f8c9",
   "metadata": {},
   "outputs": [],
   "source": [
    "cleaned_body_type1_df = cleaned_body_type1_df.dropna(subset=['price'])"
   ]
  },
  {
   "cell_type": "markdown",
   "id": "40c293c4",
   "metadata": {},
   "source": [
    "## Replacing random special characters in price column"
   ]
  },
  {
   "cell_type": "code",
   "execution_count": 49,
   "id": "0a9f7d75",
   "metadata": {},
   "outputs": [],
   "source": [
    "import pyspark.sql.functions as F\n",
    "cleaned_body_type1_df = cleaned_body_type1_df.withColumn('price', F.regexp_replace('price', '[^0-9.]', ''))"
   ]
  },
  {
   "cell_type": "code",
   "execution_count": 50,
   "id": "91b2fd1b",
   "metadata": {},
   "outputs": [],
   "source": [
    "from pyspark.sql.types import DoubleType\n",
    "cleaned_body_type1_df = cleaned_body_type1_df.withColumn('price', cleaned_body_type1_df['price'].cast(DoubleType()))"
   ]
  },
  {
   "cell_type": "code",
   "execution_count": 51,
   "id": "c098b5e9",
   "metadata": {},
   "outputs": [],
   "source": [
    "cleaned_body_type1_df = cleaned_body_type1_df.dropna(subset=['price'])\n",
    "cleaned_body_type1_df = cleaned_body_type1_df.filter(col('price') > 0)"
   ]
  },
  {
   "cell_type": "code",
   "execution_count": 52,
   "id": "054f2b09",
   "metadata": {},
   "outputs": [],
   "source": [
    "from pyspark.sql.functions import col, count\n",
    "\n",
    "price_count_df = cleaned_body_type1_df.groupBy(\"price\").agg(count(\"*\").alias(\"count\"))\n",
    "price_count_df = price_count_df.orderBy(col(\"count\").desc())"
   ]
  },
  {
   "cell_type": "code",
   "execution_count": 53,
   "id": "a719956c",
   "metadata": {},
   "outputs": [
    {
     "name": "stdout",
     "output_type": "stream",
     "text": [
      "+-------+-----+\n",
      "|  price|count|\n",
      "+-------+-----+\n",
      "|16995.0| 4919|\n",
      "|14995.0| 4781|\n",
      "|17995.0| 4671|\n",
      "|15995.0| 4664|\n",
      "|19995.0| 4492|\n",
      "|13995.0| 4367|\n",
      "|18995.0| 4326|\n",
      "|12995.0| 4314|\n",
      "| 9995.0| 3936|\n",
      "|10995.0| 3795|\n",
      "|16998.0| 3783|\n",
      "|11995.0| 3718|\n",
      "| 8995.0| 3585|\n",
      "|17998.0| 3391|\n",
      "|21995.0| 3111|\n",
      "|20995.0| 3033|\n",
      "|18998.0| 2975|\n",
      "|19998.0| 2872|\n",
      "| 7995.0| 2849|\n",
      "|22995.0| 2804|\n",
      "+-------+-----+\n",
      "only showing top 20 rows\n",
      "\n"
     ]
    }
   ],
   "source": [
    "price_count_df.show()"
   ]
  },
  {
   "cell_type": "code",
   "execution_count": 54,
   "id": "6e1fdc21",
   "metadata": {},
   "outputs": [
    {
     "name": "stdout",
     "output_type": "stream",
     "text": [
      "+--------+\n",
      "|   price|\n",
      "+--------+\n",
      "| 13973.0|\n",
      "| 16822.0|\n",
      "| 24854.1|\n",
      "|16999.99|\n",
      "| 41525.7|\n",
      "|36719.85|\n",
      "|19999.99|\n",
      "| 33554.8|\n",
      "|13899.99|\n",
      "|32900.46|\n",
      "|58641.64|\n",
      "|41093.74|\n",
      "|38902.08|\n",
      "| 37278.8|\n",
      "|23399.31|\n",
      "|24597.26|\n",
      "|27474.66|\n",
      "|41997.12|\n",
      "|38782.08|\n",
      "|26928.46|\n",
      "+--------+\n",
      "only showing top 20 rows\n",
      "\n"
     ]
    }
   ],
   "source": [
    "cleaned_body_type1_df.select('price').distinct().show()"
   ]
  },
  {
   "cell_type": "code",
   "execution_count": 55,
   "id": "0abbc027",
   "metadata": {},
   "outputs": [
    {
     "name": "stdout",
     "output_type": "stream",
     "text": [
      "+---------------+----+---------+\n",
      "|      body_type|year|avg_price|\n",
      "+---------------+----+---------+\n",
      "|        Minivan|2017|22,874.55|\n",
      "|          Sedan|2018|21,685.74|\n",
      "|SUV / Crossover|2019|30,418.33|\n",
      "|          Sedan|2019|22,260.52|\n",
      "|        Minivan|2016|17,306.45|\n",
      "|      Hatchback|2013| 9,361.14|\n",
      "|   Pickup Truck|2013|21,348.19|\n",
      "|      Hatchback|2017|16,437.88|\n",
      "|SUV / Crossover|2013|14,076.56|\n",
      "|        Minivan|2018|24,705.77|\n",
      "|        Minivan|2012|10,160.97|\n",
      "|          Sedan|2013|11,426.44|\n",
      "|   Pickup Truck|2020|48,975.15|\n",
      "|   Pickup Truck|2016|30,988.07|\n",
      "|   Pickup Truck|2015|28,685.89|\n",
      "|   Pickup Truck|2021|38,801.86|\n",
      "|SUV / Crossover|2020|35,989.02|\n",
      "|SUV / Crossover|2014|15,794.57|\n",
      "|        Minivan|2020|36,872.29|\n",
      "|      Hatchback|2016|13,133.30|\n",
      "+---------------+----+---------+\n",
      "only showing top 20 rows\n",
      "\n"
     ]
    }
   ],
   "source": [
    "from pyspark.sql.functions import format_number\n",
    "avg_price=cleaned_body_type1_df.groupBy('body_type','year').agg(F.avg('price').alias('avg_price'))\n",
    "avg_price=avg_price.withColumn('avg_price',format_number('avg_price',2))\n",
    "avg_price.show()"
   ]
  },
  {
   "cell_type": "code",
   "execution_count": 56,
   "id": "691bba8c",
   "metadata": {},
   "outputs": [
    {
     "name": "stdout",
     "output_type": "stream",
     "text": [
      "Before filtering:\n",
      "+------------------+------------+---------+---------+------------------+\n",
      "|        mean_price|median_price|min_price|max_price|      stddev_price|\n",
      "+------------------+------------+---------+---------+------------------+\n",
      "|29797.990629236803|     26383.0|    166.0|2698500.0|16565.093208196384|\n",
      "+------------------+------------+---------+---------+------------------+\n",
      "\n"
     ]
    }
   ],
   "source": [
    "print(\"Before filtering:\")\n",
    "cleaned_body_type1_df.selectExpr(\"mean(price) as mean_price\", \"median(price) as median_price\", \"min(price) as min_price\", \"max(price) as max_price\", \"stddev(price) as stddev_price\").show()"
   ]
  },
  {
   "cell_type": "markdown",
   "id": "e346bd78",
   "metadata": {},
   "source": [
    "## Removing outliers from price column"
   ]
  },
  {
   "cell_type": "code",
   "execution_count": 57,
   "id": "5e9c4ea3",
   "metadata": {},
   "outputs": [],
   "source": [
    "from pyspark.sql import functions as F\n",
    "from pyspark.sql.functions import col\n",
    "quartiles = cleaned_body_type1_df.stat.approxQuantile('price', [0.25, 0.75], 0.01) \n",
    "q1 = quartiles[0]\n",
    "q3 = quartiles[1]\n",
    "iqr = q3 - q1\n",
    "lower_bound = q1 - 1.5 * iqr\n",
    "upper_bound = q3 + 1.5 * iqr\n",
    "cleaned_body_type1_df = cleaned_body_type1_df.filter((col('price') >= lower_bound) & (col('price') <= upper_bound))"
   ]
  },
  {
   "cell_type": "code",
   "execution_count": 58,
   "id": "eb474a7f",
   "metadata": {},
   "outputs": [
    {
     "name": "stdout",
     "output_type": "stream",
     "text": [
      "After filtering:\n",
      "+----------------+------------+---------+---------+------------------+\n",
      "|      mean_price|median_price|min_price|max_price|      stddev_price|\n",
      "+----------------+------------+---------+---------+------------------+\n",
      "|28106.5922450269|     25980.0|    166.0|  63952.0|12364.194577426808|\n",
      "+----------------+------------+---------+---------+------------------+\n",
      "\n"
     ]
    }
   ],
   "source": [
    "print(\"After filtering:\")\n",
    "cleaned_body_type1_df.selectExpr(\"mean(price) as mean_price\", \"median(price) as median_price\", \"min(price) as min_price\", \"max(price) as max_price\", \"stddev(price) as stddev_price\").show()"
   ]
  },
  {
   "cell_type": "code",
   "execution_count": 59,
   "id": "d9c4e8b8",
   "metadata": {},
   "outputs": [
    {
     "name": "stdout",
     "output_type": "stream",
     "text": [
      "+---------------+----+-------+\n",
      "|      body_type|year|  price|\n",
      "+---------------+----+-------+\n",
      "|SUV / Crossover|2019|23141.0|\n",
      "|SUV / Crossover|2020|46500.0|\n",
      "|          Sedan|2016|46995.0|\n",
      "|SUV / Crossover|2020|48880.0|\n",
      "|          Sedan|2019|23695.0|\n",
      "|SUV / Crossover|2020|51245.0|\n",
      "|SUV / Crossover|2020|51885.0|\n",
      "|          Sedan|2016|58995.0|\n",
      "|          Sedan|2019|23695.0|\n",
      "|          Sedan|2019|23695.0|\n",
      "|SUV / Crossover|2020|52275.0|\n",
      "|SUV / Crossover|2020|53770.0|\n",
      "|          Sedan|2019|23695.0|\n",
      "|          Sedan|2019|23695.0|\n",
      "|SUV / Crossover|2020|54500.0|\n",
      "|SUV / Crossover|2020|54515.0|\n",
      "|SUV / Crossover|2019|24245.0|\n",
      "|SUV / Crossover|2019|27587.0|\n",
      "|SUV / Crossover|2020|54540.0|\n",
      "|SUV / Crossover|2019|28345.0|\n",
      "+---------------+----+-------+\n",
      "only showing top 20 rows\n",
      "\n"
     ]
    }
   ],
   "source": [
    "cleaned_body_type1_df.select('body_type','year','price').show()"
   ]
  },
  {
   "cell_type": "markdown",
   "id": "a21bf9c6",
   "metadata": {},
   "source": [
    "## Price trend plot"
   ]
  },
  {
   "cell_type": "code",
   "execution_count": 60,
   "id": "427d337d",
   "metadata": {
    "scrolled": false
   },
   "outputs": [
    {
     "data": {
      "image/png": "[encoded data removed]",
      "text/plain": [
       "<Figure size 1000x600 with 1 Axes>"
      ]
     },
     "metadata": {},
     "output_type": "display_data"
    }
   ],
   "source": [
    "price_trend_df = cleaned_body_type1_df.groupBy('body_type', 'year').avg('price')\n",
    "price_trend_pd = price_trend_df.toPandas()\n",
    "import matplotlib.pyplot as plt\n",
    "plt.figure(figsize=(10,6))\n",
    "for body_type in price_trend_pd['body_type'].unique():\n",
    "    body_type_data = price_trend_pd[price_trend_pd['body_type'] == body_type]\n",
    "    body_type_data = body_type_data.sort_values('year') \n",
    "    plt.plot(body_type_data['year'], body_type_data['avg(price)'], label=body_type)\n",
    "\n",
    "plt.title('Price Trend Over the Years for Top 5 Body Types')\n",
    "plt.xlabel('Year')\n",
    "plt.ylabel('Average Price')\n",
    "plt.legend()\n",
    "plt.grid(True)\n",
    "plt.show()"
   ]
  },
  {
   "cell_type": "markdown",
   "id": "3de075d7",
   "metadata": {},
   "source": [
    "## ADVANCED ANALYSIS : Identify the city and body_type combination with the highest average city_fuel_economy."
   ]
  },
  {
   "cell_type": "markdown",
   "id": "decae51f",
   "metadata": {},
   "source": [
    "## Exploring the city,body_type and city_fuel_economy columns"
   ]
  },
  {
   "cell_type": "code",
   "execution_count": 61,
   "id": "abba3644",
   "metadata": {},
   "outputs": [
    {
     "name": "stdout",
     "output_type": "stream",
     "text": [
      "+--------+-----------------+---------------+\n",
      "|    city|city_fuel_economy|      body_type|\n",
      "+--------+-----------------+---------------+\n",
      "| Bayamon|             NULL|SUV / Crossover|\n",
      "|San Juan|             NULL|SUV / Crossover|\n",
      "|Guaynabo|             17.0|          Sedan|\n",
      "|San Juan|             NULL|SUV / Crossover|\n",
      "|San Juan|             NULL|SUV / Crossover|\n",
      "|San Juan|             NULL|SUV / Crossover|\n",
      "| Bayamon|             NULL|          Sedan|\n",
      "|San Juan|             NULL|SUV / Crossover|\n",
      "|San Juan|             NULL|SUV / Crossover|\n",
      "|San Juan|             NULL|SUV / Crossover|\n",
      "|Guaynabo|             NULL|          Coupe|\n",
      "|San Juan|             NULL|SUV / Crossover|\n",
      "|Guaynabo|             22.0|          Sedan|\n",
      "|San Juan|             NULL|SUV / Crossover|\n",
      "| Bayamon|             NULL|          Sedan|\n",
      "| Bayamon|             NULL|          Sedan|\n",
      "|San Juan|             NULL|SUV / Crossover|\n",
      "|San Juan|             NULL|SUV / Crossover|\n",
      "|San Juan|             NULL|SUV / Crossover|\n",
      "|San Juan|             NULL|SUV / Crossover|\n",
      "+--------+-----------------+---------------+\n",
      "only showing top 20 rows\n",
      "\n"
     ]
    }
   ],
   "source": [
    "cleaned_body_type2_df = cleaned_df.filter(cleaned_df['body_type'].isin(['SUV / Crossover', 'Sedan', 'Pickup Truck', 'Minivan', 'Hatchback', 'Coupe', 'Wagon', 'Convertible', 'Van','Camry']))\n",
    "cleaned_body_type2_df=cleaned_body_type2_df.select('city','city_fuel_economy','body_type')\n",
    "cleaned_body_type2_df.show()"
   ]
  },
  {
   "cell_type": "markdown",
   "id": "85d4363d",
   "metadata": {},
   "source": [
    "## Cleaning the city_fuel_economy column"
   ]
  },
  {
   "cell_type": "code",
   "execution_count": 62,
   "id": "21ffcc26",
   "metadata": {},
   "outputs": [
    {
     "name": "stdout",
     "output_type": "stream",
     "text": [
      "+---------+-----------------+---------------+\n",
      "|     city|city_fuel_economy|      body_type|\n",
      "+---------+-----------------+---------------+\n",
      "| Guaynabo|             17.0|          Sedan|\n",
      "| Guaynabo|             22.0|          Sedan|\n",
      "|Bay Shore|             27.0|          Sedan|\n",
      "|    Bronx|             18.0|          Coupe|\n",
      "|Bay Shore|             18.0|SUV / Crossover|\n",
      "|Bay Shore|             15.0|SUV / Crossover|\n",
      "|Bay Shore|             18.0|SUV / Crossover|\n",
      "|    Bronx|             20.0|SUV / Crossover|\n",
      "|    Bronx|             27.0|          Coupe|\n",
      "|    Bronx|             18.0|SUV / Crossover|\n",
      "|Bay Shore|             18.0|SUV / Crossover|\n",
      "|Bay Shore|             24.0|SUV / Crossover|\n",
      "|    Bronx|             23.0|          Sedan|\n",
      "|    Bronx|             18.0|SUV / Crossover|\n",
      "|Bay Shore|             18.0|SUV / Crossover|\n",
      "|Bay Shore|             24.0|SUV / Crossover|\n",
      "|    Bronx|             16.0|SUV / Crossover|\n",
      "|    Bronx|             18.0|SUV / Crossover|\n",
      "|    Bronx|             18.0|SUV / Crossover|\n",
      "|    Bronx|             19.0|          Sedan|\n",
      "+---------+-----------------+---------------+\n",
      "only showing top 20 rows\n",
      "\n"
     ]
    }
   ],
   "source": [
    "from pyspark.sql.functions import col, trim, regexp_replace, when, isnan\n",
    "cleaned_body_type2_df = cleaned_body_type2_df.withColumn('city_fuel_economy', trim(regexp_replace('city_fuel_economy', r'[^0-9\\.]', '')))\n",
    "cleaned_fuel_economy1 = when(col('city_fuel_economy') != '', col('city_fuel_economy').cast('double')).otherwise(None)\n",
    "cleaned_body_type2_df = cleaned_body_type2_df.withColumn('city_fuel_economy', cleaned_fuel_economy1)\n",
    "cleaned_body_type2_df = cleaned_body_type2_df.dropna(subset=['city_fuel_economy'])\n",
    "cleaned_body_type2_df.show()"
   ]
  },
  {
   "cell_type": "code",
   "execution_count": 63,
   "id": "e8693a90",
   "metadata": {},
   "outputs": [],
   "source": [
    "from pyspark.sql import functions as F\n",
    "from pyspark.sql.functions import col\n",
    "quartiles = cleaned_body_type2_df.stat.approxQuantile('city_fuel_economy', [0.25, 0.75], 0.01) \n",
    "q1 = quartiles[0]\n",
    "q3 = quartiles[1]\n",
    "iqr = q3 - q1\n",
    "lower_bound = q1 - 1.5 * iqr\n",
    "upper_bound = q3 + 1.5 * iqr\n",
    "cleaned_body_type2_df = cleaned_body_type2_df.filter((col('city_fuel_economy') >= lower_bound) & (col('city_fuel_economy') <= upper_bound))"
   ]
  },
  {
   "cell_type": "code",
   "execution_count": 64,
   "id": "00887540",
   "metadata": {},
   "outputs": [
    {
     "name": "stdout",
     "output_type": "stream",
     "text": [
      "Minimum value after filtering: 7.0\n",
      "Maximum value after filtering: 38.0\n"
     ]
    }
   ],
   "source": [
    "min_value = cleaned_body_type2_df.agg(F.min('city_fuel_economy')).collect()[0][0]\n",
    "max_value = cleaned_body_type2_df.agg(F.max('city_fuel_economy')).collect()[0][0]\n",
    "\n",
    "print(\"Minimum value after filtering:\", min_value)\n",
    "print(\"Maximum value after filtering:\", max_value)\n"
   ]
  },
  {
   "cell_type": "code",
   "execution_count": 65,
   "id": "4c2644ea",
   "metadata": {},
   "outputs": [
    {
     "name": "stdout",
     "output_type": "stream",
     "text": [
      "0\n"
     ]
    }
   ],
   "source": [
    "number_of_nulls = cleaned_body_type2_df.filter(col('city').isNull()).count()\n",
    "print(number_of_nulls)"
   ]
  },
  {
   "cell_type": "markdown",
   "id": "da6978bc",
   "metadata": {},
   "source": [
    "## Group city and body type and find average city fuel economy and order it in descending order"
   ]
  },
  {
   "cell_type": "code",
   "execution_count": 66,
   "id": "d4ccddcc",
   "metadata": {},
   "outputs": [
    {
     "name": "stdout",
     "output_type": "stream",
     "text": [
      "The city and body type with the highest average city fuel economy:\n",
      "Row(city='Otterbein', body_type='Hatchback', avg(city_fuel_economy)=37.0)\n"
     ]
    }
   ],
   "source": [
    "avg_df = cleaned_body_type2_df.groupBy('city', 'body_type').avg('city_fuel_economy')\n",
    "avg_df = avg_df.orderBy(F.desc('avg(city_fuel_economy)'))\n",
    "\n",
    "highest_average = avg_df.first()\n",
    "\n",
    "print(\"The city and body type with the highest average city fuel economy:\")\n",
    "print(highest_average)"
   ]
  },
  {
   "cell_type": "code",
   "execution_count": 67,
   "id": "377c9c3e",
   "metadata": {},
   "outputs": [
    {
     "name": "stdout",
     "output_type": "stream",
     "text": [
      "+---------------+---------+----------------------+\n",
      "|           city|body_type|avg(city_fuel_economy)|\n",
      "+---------------+---------+----------------------+\n",
      "|      Otterbein|Hatchback|                  37.0|\n",
      "|Clifton Heights|Hatchback|                  37.0|\n",
      "|        Keyport|Hatchback|                  37.0|\n",
      "|    Harborcreek|Hatchback|                  37.0|\n",
      "| Flowery Branch|Hatchback|                  37.0|\n",
      "|   Natchitoches|Hatchback|                  37.0|\n",
      "|        Quinlan|Hatchback|                  37.0|\n",
      "|       Lakeside|Hatchback|                  37.0|\n",
      "|     Ozone Park|Hatchback|                  36.0|\n",
      "|        Dunmore|Hatchback|                  36.0|\n",
      "|   Randallstown|    Wagon|                  36.0|\n",
      "|         Lisbon|Hatchback|                  36.0|\n",
      "|       Suitland|    Wagon|                  36.0|\n",
      "|       Deptford|Hatchback|                  36.0|\n",
      "|    Millersburg|    Wagon|                  36.0|\n",
      "|    Bethel Park|Hatchback|                  36.0|\n",
      "|    Carmichaels|Hatchback|                  36.0|\n",
      "|        Muskego|Hatchback|                  36.0|\n",
      "|     Plant City|    Wagon|                  36.0|\n",
      "|    DIberville |    Wagon|                  36.0|\n",
      "+---------------+---------+----------------------+\n",
      "only showing top 20 rows\n",
      "\n"
     ]
    }
   ],
   "source": [
    "avg_df.show()"
   ]
  },
  {
   "cell_type": "markdown",
   "id": "d7d4e3e7",
   "metadata": {},
   "source": [
    "## ADVANCED ANALYSIS : Investigate the relationship between back_legroom and body_type using correlation analysis and visualization."
   ]
  },
  {
   "cell_type": "markdown",
   "id": "93b1bcf2",
   "metadata": {},
   "source": [
    "## Filtering and keeping only the valid body types which we found earlier and exploring back_legroom column"
   ]
  },
  {
   "cell_type": "code",
   "execution_count": 68,
   "id": "7d2a0f93",
   "metadata": {},
   "outputs": [
    {
     "name": "stdout",
     "output_type": "stream",
     "text": [
      "+---------------+------------+\n",
      "|      body_type|back_legroom|\n",
      "+---------------+------------+\n",
      "|SUV / Crossover|     35.1 in|\n",
      "|SUV / Crossover|     38.1 in|\n",
      "|          Sedan|     35.4 in|\n",
      "|SUV / Crossover|     37.6 in|\n",
      "|SUV / Crossover|     38.1 in|\n",
      "|SUV / Crossover|     37.1 in|\n",
      "|          Sedan|     35.1 in|\n",
      "|SUV / Crossover|     37.1 in|\n",
      "|SUV / Crossover|     38.1 in|\n",
      "|SUV / Crossover|     33.8 in|\n",
      "|          Coupe|          --|\n",
      "|SUV / Crossover|     33.8 in|\n",
      "|          Sedan|     35.1 in|\n",
      "|SUV / Crossover|     37.1 in|\n",
      "|          Sedan|     35.1 in|\n",
      "|          Sedan|     35.1 in|\n",
      "|SUV / Crossover|     38.1 in|\n",
      "|SUV / Crossover|     37.1 in|\n",
      "|SUV / Crossover|     37.1 in|\n",
      "|SUV / Crossover|     38.1 in|\n",
      "+---------------+------------+\n",
      "only showing top 20 rows\n",
      "\n"
     ]
    }
   ],
   "source": [
    "cleaned_body_type3_df = cleaned_df.filter(cleaned_df['body_type'].isin(['SUV / Crossover', 'Sedan', 'Pickup Truck', 'Minivan', 'Hatchback', 'Coupe', 'Wagon', 'Convertible', 'Van']))\n",
    "cleaned_body_type3_df.select('body_type','back_legroom').show()"
   ]
  },
  {
   "cell_type": "code",
   "execution_count": 69,
   "id": "6b85668a",
   "metadata": {},
   "outputs": [
    {
     "name": "stdout",
     "output_type": "stream",
     "text": [
      "+----------+\n",
      "|null_count|\n",
      "+----------+\n",
      "|     83457|\n",
      "+----------+\n",
      "\n"
     ]
    }
   ],
   "source": [
    "cleaned_body_type3_df.select(count(when(col('back_legroom')=='--',True)).alias(\"null_count\")).show()"
   ]
  },
  {
   "cell_type": "code",
   "execution_count": 70,
   "id": "e948ff4a",
   "metadata": {},
   "outputs": [],
   "source": [
    "from pyspark.sql.functions import when,col\n",
    "cleaned_body_type3_df=cleaned_body_type3_df.withColumn(\"back_legroom\",when(col(\"back_legroom\")==\"--\",None).otherwise(col(\"back_legroom\")))"
   ]
  },
  {
   "cell_type": "code",
   "execution_count": 71,
   "id": "58cca115",
   "metadata": {},
   "outputs": [
    {
     "name": "stdout",
     "output_type": "stream",
     "text": [
      "+---------------+------------+\n",
      "|      body_type|back_legroom|\n",
      "+---------------+------------+\n",
      "|SUV / Crossover|     35.1 in|\n",
      "|SUV / Crossover|     38.1 in|\n",
      "|          Sedan|     35.4 in|\n",
      "|SUV / Crossover|     37.6 in|\n",
      "|SUV / Crossover|     38.1 in|\n",
      "|SUV / Crossover|     37.1 in|\n",
      "|          Sedan|     35.1 in|\n",
      "|SUV / Crossover|     37.1 in|\n",
      "|SUV / Crossover|     38.1 in|\n",
      "|SUV / Crossover|     33.8 in|\n",
      "|          Coupe|        NULL|\n",
      "|SUV / Crossover|     33.8 in|\n",
      "|          Sedan|     35.1 in|\n",
      "|SUV / Crossover|     37.1 in|\n",
      "|          Sedan|     35.1 in|\n",
      "|          Sedan|     35.1 in|\n",
      "|SUV / Crossover|     38.1 in|\n",
      "|SUV / Crossover|     37.1 in|\n",
      "|SUV / Crossover|     37.1 in|\n",
      "|SUV / Crossover|     38.1 in|\n",
      "+---------------+------------+\n",
      "only showing top 20 rows\n",
      "\n"
     ]
    }
   ],
   "source": [
    "cleaned_body_type3_df.select('body_type','back_legroom').show()"
   ]
  },
  {
   "cell_type": "markdown",
   "id": "6f4f3d44",
   "metadata": {},
   "source": [
    "## Replaced special characters like -- and in"
   ]
  },
  {
   "cell_type": "code",
   "execution_count": 72,
   "id": "579b95db",
   "metadata": {},
   "outputs": [
    {
     "name": "stdout",
     "output_type": "stream",
     "text": [
      "+---------------+------------+\n",
      "|      body_type|back_legroom|\n",
      "+---------------+------------+\n",
      "|SUV / Crossover|        35.1|\n",
      "|SUV / Crossover|        38.1|\n",
      "|          Sedan|        35.4|\n",
      "|SUV / Crossover|        37.6|\n",
      "|SUV / Crossover|        38.1|\n",
      "|SUV / Crossover|        37.1|\n",
      "|          Sedan|        35.1|\n",
      "|SUV / Crossover|        37.1|\n",
      "|SUV / Crossover|        38.1|\n",
      "|SUV / Crossover|        33.8|\n",
      "|          Coupe|        NULL|\n",
      "|SUV / Crossover|        33.8|\n",
      "|          Sedan|        35.1|\n",
      "|SUV / Crossover|        37.1|\n",
      "|          Sedan|        35.1|\n",
      "|          Sedan|        35.1|\n",
      "|SUV / Crossover|        38.1|\n",
      "|SUV / Crossover|        37.1|\n",
      "|SUV / Crossover|        37.1|\n",
      "|SUV / Crossover|        38.1|\n",
      "+---------------+------------+\n",
      "only showing top 20 rows\n",
      "\n"
     ]
    }
   ],
   "source": [
    "from pyspark.sql.functions import regexp_replace\n",
    "cleaned_body_type3_df = cleaned_body_type3_df.withColumn('back_legroom', regexp_replace(cleaned_body_type3_df['back_legroom'], '[^0-9\\.]', ''))\n",
    "cleaned_body_type3_df.select('body_type','back_legroom').show()"
   ]
  },
  {
   "cell_type": "code",
   "execution_count": 73,
   "id": "2bc794a9",
   "metadata": {},
   "outputs": [
    {
     "data": {
      "text/plain": [
       "2986497"
      ]
     },
     "execution_count": 73,
     "metadata": {},
     "output_type": "execute_result"
    }
   ],
   "source": [
    "cleaned_body_type3_df.count()"
   ]
  },
  {
   "cell_type": "code",
   "execution_count": 74,
   "id": "9a7e13da",
   "metadata": {},
   "outputs": [
    {
     "name": "stdout",
     "output_type": "stream",
     "text": [
      "+----------+\n",
      "|null_count|\n",
      "+----------+\n",
      "|    229227|\n",
      "+----------+\n",
      "\n"
     ]
    }
   ],
   "source": [
    "from pyspark.sql.functions import count, when, col\n",
    "null_count = cleaned_body_type3_df.select(count(when(col('back_legroom').isNull(), True)).alias('null_count'))\n",
    "null_count.show()"
   ]
  },
  {
   "cell_type": "code",
   "execution_count": 75,
   "id": "a829775a",
   "metadata": {},
   "outputs": [
    {
     "name": "stdout",
     "output_type": "stream",
     "text": [
      "root\n",
      " |-- vin: string (nullable = true)\n",
      " |-- back_legroom: string (nullable = true)\n",
      " |-- body_type: string (nullable = true)\n",
      " |-- city: string (nullable = true)\n",
      " |-- city_fuel_economy: string (nullable = true)\n",
      " |-- daysonmarket: string (nullable = true)\n",
      " |-- dealer_zip: string (nullable = true)\n",
      " |-- description: string (nullable = true)\n",
      " |-- engine_cylinders: string (nullable = true)\n",
      " |-- engine_displacement: string (nullable = true)\n",
      " |-- engine_type: string (nullable = true)\n",
      " |-- exterior_color: string (nullable = true)\n",
      " |-- franchise_dealer: string (nullable = true)\n",
      " |-- franchise_make: string (nullable = true)\n",
      " |-- front_legroom: string (nullable = true)\n",
      " |-- fuel_tank_volume: string (nullable = true)\n",
      " |-- fuel_type: string (nullable = true)\n",
      " |-- height: string (nullable = true)\n",
      " |-- highway_fuel_economy: string (nullable = true)\n",
      " |-- horsepower: string (nullable = true)\n",
      " |-- interior_color: string (nullable = true)\n",
      " |-- is_new: string (nullable = true)\n",
      " |-- latitude: string (nullable = true)\n",
      " |-- length: string (nullable = true)\n",
      " |-- listed_date: string (nullable = true)\n",
      " |-- listing_color: string (nullable = true)\n",
      " |-- listing_id: string (nullable = true)\n",
      " |-- longitude: string (nullable = true)\n",
      " |-- main_picture_url: string (nullable = true)\n",
      " |-- major_options: string (nullable = true)\n",
      " |-- make_name: string (nullable = true)\n",
      " |-- maximum_seating: string (nullable = true)\n",
      " |-- mileage: string (nullable = true)\n",
      " |-- model_name: string (nullable = true)\n",
      " |-- power: string (nullable = true)\n",
      " |-- price: string (nullable = true)\n",
      " |-- savings_amount: string (nullable = true)\n",
      " |-- seller_rating: string (nullable = true)\n",
      " |-- sp_id: string (nullable = true)\n",
      " |-- sp_name: string (nullable = true)\n",
      " |-- torque: string (nullable = true)\n",
      " |-- transmission: string (nullable = true)\n",
      " |-- transmission_display: string (nullable = true)\n",
      " |-- trimId: string (nullable = true)\n",
      " |-- trim_name: string (nullable = true)\n",
      " |-- wheel_system: string (nullable = true)\n",
      " |-- wheel_system_display: string (nullable = true)\n",
      " |-- wheelbase: string (nullable = true)\n",
      " |-- width: string (nullable = true)\n",
      " |-- year: string (nullable = true)\n",
      "\n"
     ]
    }
   ],
   "source": [
    "cleaned_body_type3_df.printSchema()"
   ]
  },
  {
   "cell_type": "markdown",
   "id": "0dba9352",
   "metadata": {},
   "source": [
    "## Removing null values and casting type of back_legroom as double"
   ]
  },
  {
   "cell_type": "code",
   "execution_count": 76,
   "id": "b8e48ef2",
   "metadata": {},
   "outputs": [],
   "source": [
    "from pyspark.sql.types import DoubleType\n",
    "cleaned_body_type3_df = cleaned_body_type3_df.withColumn(\"back_legroom\", col(\"back_legroom\").cast(DoubleType()))"
   ]
  },
  {
   "cell_type": "code",
   "execution_count": 77,
   "id": "42a01a21",
   "metadata": {},
   "outputs": [
    {
     "name": "stdout",
     "output_type": "stream",
     "text": [
      "root\n",
      " |-- vin: string (nullable = true)\n",
      " |-- back_legroom: double (nullable = true)\n",
      " |-- body_type: string (nullable = true)\n",
      " |-- city: string (nullable = true)\n",
      " |-- city_fuel_economy: string (nullable = true)\n",
      " |-- daysonmarket: string (nullable = true)\n",
      " |-- dealer_zip: string (nullable = true)\n",
      " |-- description: string (nullable = true)\n",
      " |-- engine_cylinders: string (nullable = true)\n",
      " |-- engine_displacement: string (nullable = true)\n",
      " |-- engine_type: string (nullable = true)\n",
      " |-- exterior_color: string (nullable = true)\n",
      " |-- franchise_dealer: string (nullable = true)\n",
      " |-- franchise_make: string (nullable = true)\n",
      " |-- front_legroom: string (nullable = true)\n",
      " |-- fuel_tank_volume: string (nullable = true)\n",
      " |-- fuel_type: string (nullable = true)\n",
      " |-- height: string (nullable = true)\n",
      " |-- highway_fuel_economy: string (nullable = true)\n",
      " |-- horsepower: string (nullable = true)\n",
      " |-- interior_color: string (nullable = true)\n",
      " |-- is_new: string (nullable = true)\n",
      " |-- latitude: string (nullable = true)\n",
      " |-- length: string (nullable = true)\n",
      " |-- listed_date: string (nullable = true)\n",
      " |-- listing_color: string (nullable = true)\n",
      " |-- listing_id: string (nullable = true)\n",
      " |-- longitude: string (nullable = true)\n",
      " |-- main_picture_url: string (nullable = true)\n",
      " |-- major_options: string (nullable = true)\n",
      " |-- make_name: string (nullable = true)\n",
      " |-- maximum_seating: string (nullable = true)\n",
      " |-- mileage: string (nullable = true)\n",
      " |-- model_name: string (nullable = true)\n",
      " |-- power: string (nullable = true)\n",
      " |-- price: string (nullable = true)\n",
      " |-- savings_amount: string (nullable = true)\n",
      " |-- seller_rating: string (nullable = true)\n",
      " |-- sp_id: string (nullable = true)\n",
      " |-- sp_name: string (nullable = true)\n",
      " |-- torque: string (nullable = true)\n",
      " |-- transmission: string (nullable = true)\n",
      " |-- transmission_display: string (nullable = true)\n",
      " |-- trimId: string (nullable = true)\n",
      " |-- trim_name: string (nullable = true)\n",
      " |-- wheel_system: string (nullable = true)\n",
      " |-- wheel_system_display: string (nullable = true)\n",
      " |-- wheelbase: string (nullable = true)\n",
      " |-- width: string (nullable = true)\n",
      " |-- year: string (nullable = true)\n",
      "\n"
     ]
    }
   ],
   "source": [
    "cleaned_body_type3_df.printSchema()"
   ]
  },
  {
   "cell_type": "code",
   "execution_count": 78,
   "id": "9ba5a14e",
   "metadata": {},
   "outputs": [],
   "source": [
    "cleaned_body_type3_df = cleaned_body_type3_df.dropna(subset=[\"back_legroom\"])"
   ]
  },
  {
   "cell_type": "code",
   "execution_count": 79,
   "id": "fca94a89",
   "metadata": {},
   "outputs": [
    {
     "name": "stdout",
     "output_type": "stream",
     "text": [
      "+---------------+------------+\n",
      "|      body_type|back_legroom|\n",
      "+---------------+------------+\n",
      "|SUV / Crossover|        35.1|\n",
      "|SUV / Crossover|        38.1|\n",
      "|          Sedan|        35.4|\n",
      "|SUV / Crossover|        37.6|\n",
      "|SUV / Crossover|        38.1|\n",
      "|SUV / Crossover|        37.1|\n",
      "|          Sedan|        35.1|\n",
      "|SUV / Crossover|        37.1|\n",
      "|SUV / Crossover|        38.1|\n",
      "|SUV / Crossover|        33.8|\n",
      "|SUV / Crossover|        33.8|\n",
      "|          Sedan|        35.1|\n",
      "|SUV / Crossover|        37.1|\n",
      "|          Sedan|        35.1|\n",
      "|          Sedan|        35.1|\n",
      "|SUV / Crossover|        38.1|\n",
      "|SUV / Crossover|        37.1|\n",
      "|SUV / Crossover|        37.1|\n",
      "|SUV / Crossover|        38.1|\n",
      "|          Sedan|        35.1|\n",
      "+---------------+------------+\n",
      "only showing top 20 rows\n",
      "\n"
     ]
    }
   ],
   "source": [
    "cleaned_body_type3_df.select('body_type','back_legroom').show()"
   ]
  },
  {
   "cell_type": "markdown",
   "id": "dc514ff0",
   "metadata": {},
   "source": [
    "## One hot encoding of body_type since its a categorical column"
   ]
  },
  {
   "cell_type": "code",
   "execution_count": 80,
   "id": "397d74c9",
   "metadata": {},
   "outputs": [
    {
     "name": "stdout",
     "output_type": "stream",
     "text": [
      "+-----------------+------------+\n",
      "|body_type_encoded|back_legroom|\n",
      "+-----------------+------------+\n",
      "|    (8,[0],[1.0])|        35.1|\n",
      "|    (8,[0],[1.0])|        38.1|\n",
      "|    (8,[1],[1.0])|        35.4|\n",
      "|    (8,[0],[1.0])|        37.6|\n",
      "|    (8,[0],[1.0])|        38.1|\n",
      "|    (8,[0],[1.0])|        37.1|\n",
      "|    (8,[1],[1.0])|        35.1|\n",
      "|    (8,[0],[1.0])|        37.1|\n",
      "|    (8,[0],[1.0])|        38.1|\n",
      "|    (8,[0],[1.0])|        33.8|\n",
      "|    (8,[0],[1.0])|        33.8|\n",
      "|    (8,[1],[1.0])|        35.1|\n",
      "|    (8,[0],[1.0])|        37.1|\n",
      "|    (8,[1],[1.0])|        35.1|\n",
      "|    (8,[1],[1.0])|        35.1|\n",
      "|    (8,[0],[1.0])|        38.1|\n",
      "|    (8,[0],[1.0])|        37.1|\n",
      "|    (8,[0],[1.0])|        37.1|\n",
      "|    (8,[0],[1.0])|        38.1|\n",
      "|    (8,[1],[1.0])|        35.1|\n",
      "+-----------------+------------+\n",
      "only showing top 20 rows\n",
      "\n"
     ]
    }
   ],
   "source": [
    "from pyspark.ml.feature import OneHotEncoder, StringIndexer\n",
    "from pyspark.ml import Pipeline\n",
    "indexer = StringIndexer(inputCol=\"body_type\", outputCol=\"body_type_index\")\n",
    "encoder = OneHotEncoder(inputCol=\"body_type_index\", outputCol=\"body_type_encoded\")\n",
    "pipeline = Pipeline(stages=[indexer, encoder])\n",
    "model = pipeline.fit(cleaned_body_type3_df)\n",
    "transformed_df = model.transform(cleaned_body_type3_df)\n",
    "transformed_df.select('body_type_encoded','back_legroom').show()"
   ]
  },
  {
   "cell_type": "code",
   "execution_count": 81,
   "id": "555e5222",
   "metadata": {},
   "outputs": [
    {
     "name": "stdout",
     "output_type": "stream",
     "text": [
      "Hatchback: (8,[4],[1.0])\n",
      "Convertible: (8,[7],[1.0])\n",
      "Sedan: (8,[1],[1.0])\n",
      "Pickup Truck: (8,[2],[1.0])\n",
      "Wagon: (8,[6],[1.0])\n",
      "Van: (8,[],[])\n",
      "SUV / Crossover: (8,[0],[1.0])\n",
      "Coupe: (8,[5],[1.0])\n",
      "Minivan: (8,[3],[1.0])\n"
     ]
    }
   ],
   "source": [
    "distinct_body_types = transformed_df.select('body_type').distinct()\n",
    "distinct_body_types_list = [row['body_type'] for row in distinct_body_types.collect()]\n",
    "for body_type in distinct_body_types_list:\n",
    "    encoding = transformed_df.filter(transformed_df['body_type'] == body_type).select('body_type_encoded').distinct().collect()[0]['body_type_encoded']\n",
    "    print(f\"{body_type}: {encoding}\")"
   ]
  },
  {
   "cell_type": "code",
   "execution_count": 82,
   "id": "75b211c3",
   "metadata": {},
   "outputs": [
    {
     "name": "stdout",
     "output_type": "stream",
     "text": [
      "root\n",
      " |-- back_legroom: double (nullable = true)\n",
      "\n"
     ]
    }
   ],
   "source": [
    "transformed_df.select('back_legroom').printSchema()"
   ]
  },
  {
   "cell_type": "code",
   "execution_count": 86,
   "id": "7123a436",
   "metadata": {},
   "outputs": [],
   "source": [
    "from pyspark.ml.feature import VectorAssembler\n",
    "selected_features = ['body_type_encoded','back_legroom']\n",
    "assembler = VectorAssembler(inputCols=selected_features, outputCol=\"features\")\n",
    "transformed_df_vectorized = assembler.transform(transformed_df.select(selected_features))"
   ]
  },
  {
   "cell_type": "markdown",
   "id": "a9f30f3d",
   "metadata": {},
   "source": [
    "## Using pearson correlation to find correlation coefficent"
   ]
  },
  {
   "cell_type": "code",
   "execution_count": 87,
   "id": "e8a6691d",
   "metadata": {},
   "outputs": [
    {
     "data": {
      "text/plain": [
       "Row(pearson(features)=DenseMatrix(9, 9, [1.0, -0.586, -0.4121, -0.1693, -0.1685, -0.1429, -0.1109, -0.0715, ..., -0.1711, 0.2743, 0.0341, -0.1672, -0.2822, -0.0267, -0.1664, 1.0], False))"
      ]
     },
     "execution_count": 87,
     "metadata": {},
     "output_type": "execute_result"
    }
   ],
   "source": [
    "from pyspark.ml.stat import Correlation\n",
    "pearson_corr_matrix = Correlation.corr(transformed_df_vectorized, \"features\", method=\"pearson\").head()\n",
    "pearson_corr_matrix"
   ]
  },
  {
   "cell_type": "markdown",
   "id": "2a7de224",
   "metadata": {},
   "source": [
    "## Converting pearson matrix to array and showing values"
   ]
  },
  {
   "cell_type": "code",
   "execution_count": 88,
   "id": "0511e031",
   "metadata": {},
   "outputs": [
    {
     "data": {
      "text/plain": [
       "array([[ 1.        , -0.5860448 , -0.41205737, -0.16930856, -0.16845648,\n",
       "        -0.14291289, -0.11087491, -0.07151058,  0.11426391],\n",
       "       [-0.5860448 ,  1.        , -0.24552817, -0.10088406, -0.10037634,\n",
       "        -0.08515596, -0.06606583, -0.04261023, -0.17108953],\n",
       "       [-0.41205737, -0.24552817,  1.        , -0.07093318, -0.07057619,\n",
       "        -0.0598745 , -0.04645193, -0.02995993,  0.27427857],\n",
       "       [-0.16930856, -0.10088406, -0.07093318,  1.        , -0.02899876,\n",
       "        -0.02460159, -0.01908644, -0.01231011,  0.03410422],\n",
       "       [-0.16845648, -0.10037634, -0.07057619, -0.02899876,  1.        ,\n",
       "        -0.02447778, -0.01899039, -0.01224816, -0.16716667],\n",
       "       [-0.14291289, -0.08515596, -0.0598745 , -0.02460159, -0.02447778,\n",
       "         1.        , -0.01611081, -0.01039093, -0.28219418],\n",
       "       [-0.11087491, -0.06606583, -0.04645193, -0.01908644, -0.01899039,\n",
       "        -0.01611081,  1.        , -0.00806151, -0.02671106],\n",
       "       [-0.07151058, -0.04261023, -0.02995993, -0.01231011, -0.01224816,\n",
       "        -0.01039093, -0.00806151,  1.        , -0.16643007],\n",
       "       [ 0.11426391, -0.17108953,  0.27427857,  0.03410422, -0.16716667,\n",
       "        -0.28219418, -0.02671106, -0.16643007,  1.        ]])"
      ]
     },
     "execution_count": 88,
     "metadata": {},
     "output_type": "execute_result"
    }
   ],
   "source": [
    "corr_values = pearson_corr_matrix[0].toArray()\n",
    "corr_values"
   ]
  },
  {
   "cell_type": "markdown",
   "id": "52acbf9b",
   "metadata": {},
   "source": [
    "## Correlation heatmap"
   ]
  },
  {
   "cell_type": "code",
   "execution_count": 91,
   "id": "b3ba07c0",
   "metadata": {},
   "outputs": [
    {
     "data": {
      "image/png": "[encoded data removed]",
      "text/plain": [
       "<Figure size 1000x800 with 2 Axes>"
      ]
     },
     "metadata": {},
     "output_type": "display_data"
    }
   ],
   "source": [
    "import matplotlib.pyplot as plt\n",
    "import seaborn as sns\n",
    "import pandas as pd\n",
    "pdf=transformed_df_vectorized.select(\"features\").toPandas()\n",
    "feature_columns=[f\"feature_{i}\" for i in range(pdf[\"features\"].apply(len).max())]\n",
    "pdf=pd.DataFrame(pdf[\"features\"].apply(lambda x:x.toArray()).tolist(),columns=feature_columns)\n",
    "plt.figure(figsize=(10,8))\n",
    "sns.heatmap(pdf.corr(),annot=True,cmap=\"coolwarm\")\n",
    "plt.title(\"Correlation heatmap\")\n",
    "plt.show()"
   ]
  },
  {
   "cell_type": "markdown",
   "id": "ceea27ec",
   "metadata": {},
   "source": [
    "## MACHINE LEARNING :  Utilize regression in MlLib to predict prices of cars based on the available features in the dataset."
   ]
  },
  {
   "cell_type": "markdown",
   "id": "d18dc429",
   "metadata": {},
   "source": [
    "## Cleaning mileage "
   ]
  },
  {
   "cell_type": "code",
   "execution_count": 92,
   "id": "0405d6dd",
   "metadata": {},
   "outputs": [
    {
     "name": "stdout",
     "output_type": "stream",
     "text": [
      "+--------+\n",
      "| mileage|\n",
      "+--------+\n",
      "| 16553.0|\n",
      "| 52528.0|\n",
      "| 44864.0|\n",
      "| 86300.0|\n",
      "| 15141.0|\n",
      "|100775.0|\n",
      "| 64735.0|\n",
      "|103845.0|\n",
      "|  1008.0|\n",
      "| 75718.0|\n",
      "| 32267.0|\n",
      "| 97592.0|\n",
      "|  7665.0|\n",
      "| 84538.0|\n",
      "| 48259.0|\n",
      "| 65102.0|\n",
      "|  9984.0|\n",
      "| 43227.0|\n",
      "| 25885.0|\n",
      "|   886.0|\n",
      "+--------+\n",
      "only showing top 20 rows\n",
      "\n"
     ]
    }
   ],
   "source": [
    "cleaned_body_type1_df.select('mileage').distinct().show()"
   ]
  },
  {
   "cell_type": "code",
   "execution_count": 93,
   "id": "8d310b8f",
   "metadata": {},
   "outputs": [],
   "source": [
    "from pyspark.sql.types import IntegerType\n",
    "cleaned_body_type1_df=cleaned_body_type1_df.dropna(subset=['mileage'])\n",
    "cleaned_body_type1_df=cleaned_body_type1_df.withColumn(\"mileage\",col(\"mileage\").cast(IntegerType()))"
   ]
  },
  {
   "cell_type": "code",
   "execution_count": 94,
   "id": "3c28b44a",
   "metadata": {},
   "outputs": [
    {
     "name": "stdout",
     "output_type": "stream",
     "text": [
      "root\n",
      " |-- mileage: integer (nullable = true)\n",
      "\n"
     ]
    }
   ],
   "source": [
    "cleaned_body_type1_df.select('mileage').printSchema()"
   ]
  },
  {
   "cell_type": "code",
   "execution_count": 95,
   "id": "66733257",
   "metadata": {},
   "outputs": [
    {
     "name": "stdout",
     "output_type": "stream",
     "text": [
      "+-------+\n",
      "|mileage|\n",
      "+-------+\n",
      "| 108538|\n",
      "| 120996|\n",
      "| 101415|\n",
      "|  99362|\n",
      "| 115477|\n",
      "| 140798|\n",
      "| 101681|\n",
      "| 112336|\n",
      "|  99896|\n",
      "| 123642|\n",
      "| 107609|\n",
      "| 126199|\n",
      "| 110255|\n",
      "| 106911|\n",
      "| 133298|\n",
      "| 117572|\n",
      "| 177088|\n",
      "| 129692|\n",
      "| 109851|\n",
      "| 133877|\n",
      "+-------+\n",
      "only showing top 20 rows\n",
      "\n"
     ]
    }
   ],
   "source": [
    "from pyspark.sql import functions as F\n",
    "from pyspark.sql.functions import col\n",
    "cleaned_body_type1_df=cleaned_body_type1_df.withColumn(\"mileage\",col(\"mileage\").cast(\"int\"))\n",
    "quartiles = cleaned_body_type1_df.stat.approxQuantile('mileage', [0.25, 0.75], 0.01) \n",
    "q1 = quartiles[0]\n",
    "q3 = quartiles[1]\n",
    "iqr = q3 - q1\n",
    "lower_bound = q1 - 1.5 * iqr\n",
    "upper_bound = q3 + 1.5 * iqr\n",
    "outliers = cleaned_body_type1_df.filter((col('mileage')< lower_bound) | (col('mileage') > upper_bound))\n",
    "outliers.select('mileage').show()"
   ]
  },
  {
   "cell_type": "markdown",
   "id": "51d60e63",
   "metadata": {},
   "source": [
    "## Had first tried to build a model using 2 features-mileage and year"
   ]
  },
  {
   "cell_type": "code",
   "execution_count": 96,
   "id": "87e55dae",
   "metadata": {},
   "outputs": [
    {
     "name": "stdout",
     "output_type": "stream",
     "text": [
      "+------------+-------+\n",
      "|    features|  price|\n",
      "+------------+-------+\n",
      "|[7.0,2019.0]|23141.0|\n",
      "|[8.0,2020.0]|46500.0|\n",
      "|[7.0,2020.0]|48880.0|\n",
      "+------------+-------+\n",
      "only showing top 3 rows\n",
      "\n"
     ]
    }
   ],
   "source": [
    "from pyspark.ml.feature import VectorAssembler\n",
    "vectorAssembler = VectorAssembler(inputCols = ['mileage','year'], outputCol = 'features')\n",
    "vhouse_df = vectorAssembler.transform(cleaned_body_type1_df)\n",
    "vhouse_df = vhouse_df.select(['features', 'price'])\n",
    "vhouse_df.show(3)"
   ]
  },
  {
   "cell_type": "code",
   "execution_count": 97,
   "id": "2d982202",
   "metadata": {},
   "outputs": [],
   "source": [
    "splits = vhouse_df.randomSplit([0.7, 0.3])\n",
    "train_df = splits[0]\n",
    "test_df = splits[1]"
   ]
  }
 ],
 "metadata": {
  "kernelspec": {
   "display_name": "Python 3 (ipykernel)",
   "language": "python",
   "name": "python3"
  },
  "language_info": {
   "codemirror_mode": {
    "name": "ipython",
    "version": 3
   },
   "file_extension": ".py",
   "mimetype": "text/x-python",
   "name": "python",
   "nbconvert_exporter": "python",
   "pygments_lexer": "ipython3",
   "version": "3.11.4"
  }
 },
 "nbformat": 4,
 "nbformat_minor": 5
}
